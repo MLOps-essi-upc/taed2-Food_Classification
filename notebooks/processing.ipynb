{
 "cells": [
  {
   "cell_type": "markdown",
   "id": "b79d6aab",
   "metadata": {
    "papermill": {
     "duration": 0.005718,
     "end_time": "2023-10-10T09:51:16.359139",
     "exception": false,
     "start_time": "2023-10-10T09:51:16.353421",
     "status": "completed"
    },
    "tags": []
   },
   "source": [
    "# **Food-101 Image Classification**"
   ]
  },
  {
   "cell_type": "markdown",
   "id": "4cb5ac2c",
   "metadata": {
    "papermill": {
     "duration": 0.005212,
     "end_time": "2023-10-10T09:51:16.369620",
     "exception": false,
     "start_time": "2023-10-10T09:51:16.364408",
     "status": "completed"
    },
    "tags": []
   },
   "source": [
    "## **Installation and import of libraries**"
   ]
  },
  {
   "cell_type": "code",
   "execution_count": 84,
   "id": "f8d98e84",
   "metadata": {},
   "outputs": [
    {
     "name": "stdout",
     "output_type": "stream",
     "text": [
      "\u001b[33mDEPRECATION: Configuring installation scheme with distutils config files is deprecated and will no longer work in the near future. If you are using a Homebrew or Linuxbrew Python, please see discussion at https://github.com/Homebrew/homebrew-core/issues/76621\u001b[0m\n",
      "Requirement already satisfied: mlflow in /usr/local/lib/python3.9/site-packages (2.7.1)\n",
      "Requirement already satisfied: querystring-parser<2 in /usr/local/lib/python3.9/site-packages (from mlflow) (1.2.4)\n",
      "Requirement already satisfied: matplotlib<4 in /usr/local/lib/python3.9/site-packages (from mlflow) (3.5.0)\n",
      "Requirement already satisfied: protobuf<5,>=3.12.0 in /usr/local/lib/python3.9/site-packages (from mlflow) (4.24.4)\n",
      "Requirement already satisfied: Flask<3 in /usr/local/lib/python3.9/site-packages (from mlflow) (2.3.3)\n",
      "Requirement already satisfied: databricks-cli<1,>=0.8.7 in /usr/local/lib/python3.9/site-packages (from mlflow) (0.18.0)\n",
      "Requirement already satisfied: gunicorn<22 in /usr/local/lib/python3.9/site-packages (from mlflow) (21.2.0)\n",
      "Requirement already satisfied: docker<7,>=4.0.0 in /usr/local/lib/python3.9/site-packages (from mlflow) (6.1.3)\n",
      "Requirement already satisfied: pandas<3 in /usr/local/lib/python3.9/site-packages (from mlflow) (1.5.3)\n",
      "Requirement already satisfied: sqlalchemy<3,>=1.4.0 in /usr/local/lib/python3.9/site-packages (from mlflow) (2.0.22)\n",
      "Requirement already satisfied: markdown<4,>=3.3 in /usr/local/lib/python3.9/site-packages (from mlflow) (3.5)\n",
      "Requirement already satisfied: packaging<24 in /usr/local/lib/python3.9/site-packages (from mlflow) (21.3)\n",
      "Requirement already satisfied: requests<3,>=2.17.3 in /usr/local/lib/python3.9/site-packages (from mlflow) (2.31.0)\n",
      "Requirement already satisfied: click<9,>=7.0 in /usr/local/lib/python3.9/site-packages (from mlflow) (8.1.7)\n",
      "Requirement already satisfied: importlib-metadata!=4.7.0,<7,>=3.7.0 in /usr/local/lib/python3.9/site-packages (from mlflow) (6.8.0)\n",
      "Requirement already satisfied: sqlparse<1,>=0.4.0 in /usr/local/lib/python3.9/site-packages (from mlflow) (0.4.4)\n",
      "Requirement already satisfied: pyyaml<7,>=5.1 in /usr/local/lib/python3.9/site-packages (from mlflow) (5.4.1)\n",
      "Requirement already satisfied: Jinja2<4,>=2.11 in /usr/local/lib/python3.9/site-packages (from mlflow) (3.1.2)\n",
      "Requirement already satisfied: scipy<2 in /usr/local/lib/python3.9/site-packages (from mlflow) (1.9.3)\n",
      "Requirement already satisfied: cloudpickle<3 in /usr/local/lib/python3.9/site-packages (from mlflow) (2.2.1)\n",
      "Requirement already satisfied: gitpython<4,>=2.1.0 in /usr/local/lib/python3.9/site-packages (from mlflow) (3.1.38)\n",
      "Requirement already satisfied: scikit-learn<2 in /usr/local/lib/python3.9/site-packages (from mlflow) (1.3.1)\n",
      "Requirement already satisfied: pyarrow<14,>=4.0.0 in /usr/local/lib/python3.9/site-packages (from mlflow) (13.0.0)\n",
      "Requirement already satisfied: entrypoints<1 in /Users/violeta/Library/Python/3.9/lib/python/site-packages (from mlflow) (0.4)\n",
      "Requirement already satisfied: alembic!=1.10.0,<2 in /usr/local/lib/python3.9/site-packages (from mlflow) (1.12.0)\n",
      "Requirement already satisfied: pytz<2024 in /usr/local/lib/python3.9/site-packages (from mlflow) (2023.3.post1)\n",
      "Requirement already satisfied: numpy<2 in /usr/local/lib/python3.9/site-packages (from mlflow) (1.22.4)\n",
      "Requirement already satisfied: typing-extensions>=4 in /usr/local/lib/python3.9/site-packages (from alembic!=1.10.0,<2->mlflow) (4.8.0)\n",
      "Requirement already satisfied: Mako in /usr/local/lib/python3.9/site-packages (from alembic!=1.10.0,<2->mlflow) (1.2.4)\n",
      "Requirement already satisfied: pyjwt>=1.7.0 in /usr/local/lib/python3.9/site-packages (from databricks-cli<1,>=0.8.7->mlflow) (2.8.0)\n",
      "Requirement already satisfied: oauthlib>=3.1.0 in /usr/local/lib/python3.9/site-packages (from databricks-cli<1,>=0.8.7->mlflow) (3.2.2)\n",
      "Requirement already satisfied: tabulate>=0.7.7 in /usr/local/lib/python3.9/site-packages (from databricks-cli<1,>=0.8.7->mlflow) (0.9.0)\n",
      "Requirement already satisfied: six>=1.10.0 in /usr/local/lib/python3.9/site-packages (from databricks-cli<1,>=0.8.7->mlflow) (1.15.0)\n",
      "Requirement already satisfied: urllib3<3,>=1.26.7 in /usr/local/lib/python3.9/site-packages (from databricks-cli<1,>=0.8.7->mlflow) (1.26.17)\n",
      "Requirement already satisfied: websocket-client>=0.32.0 in /usr/local/lib/python3.9/site-packages (from docker<7,>=4.0.0->mlflow) (1.6.4)\n",
      "Requirement already satisfied: blinker>=1.6.2 in /usr/local/lib/python3.9/site-packages (from Flask<3->mlflow) (1.6.3)\n",
      "Requirement already satisfied: itsdangerous>=2.1.2 in /usr/local/lib/python3.9/site-packages (from Flask<3->mlflow) (2.1.2)\n",
      "Requirement already satisfied: Werkzeug>=2.3.7 in /usr/local/lib/python3.9/site-packages (from Flask<3->mlflow) (3.0.0)\n",
      "Requirement already satisfied: gitdb<5,>=4.0.1 in /usr/local/lib/python3.9/site-packages (from gitpython<4,>=2.1.0->mlflow) (4.0.10)\n",
      "Requirement already satisfied: zipp>=0.5 in /usr/local/lib/python3.9/site-packages (from importlib-metadata!=4.7.0,<7,>=3.7.0->mlflow) (3.17.0)\n",
      "Requirement already satisfied: MarkupSafe>=2.0 in /usr/local/lib/python3.9/site-packages (from Jinja2<4,>=2.11->mlflow) (2.1.1)\n",
      "Requirement already satisfied: cycler>=0.10 in /usr/local/lib/python3.9/site-packages (from matplotlib<4->mlflow) (0.10.0)\n",
      "Requirement already satisfied: fonttools>=4.22.0 in /usr/local/lib/python3.9/site-packages (from matplotlib<4->mlflow) (4.28.3)\n",
      "Requirement already satisfied: python-dateutil>=2.7 in /Users/violeta/Library/Python/3.9/lib/python/site-packages (from matplotlib<4->mlflow) (2.8.2)\n",
      "Requirement already satisfied: pyparsing>=2.2.1 in /usr/local/lib/python3.9/site-packages (from matplotlib<4->mlflow) (2.4.7)\n",
      "Requirement already satisfied: setuptools-scm>=4 in /usr/local/lib/python3.9/site-packages (from matplotlib<4->mlflow) (6.3.2)\n",
      "Requirement already satisfied: kiwisolver>=1.0.1 in /usr/local/lib/python3.9/site-packages (from matplotlib<4->mlflow) (1.3.1)\n",
      "Requirement already satisfied: pillow>=6.2.0 in /usr/local/lib/python3.9/site-packages (from matplotlib<4->mlflow) (9.4.0)\n",
      "Requirement already satisfied: charset-normalizer<4,>=2 in /usr/local/lib/python3.9/site-packages (from requests<3,>=2.17.3->mlflow) (3.3.0)\n",
      "Requirement already satisfied: idna<4,>=2.5 in /usr/local/lib/python3.9/site-packages (from requests<3,>=2.17.3->mlflow) (2.10)\n",
      "Requirement already satisfied: certifi>=2017.4.17 in /usr/local/lib/python3.9/site-packages (from requests<3,>=2.17.3->mlflow) (2020.12.5)\n",
      "Requirement already satisfied: joblib>=1.1.1 in /usr/local/lib/python3.9/site-packages (from scikit-learn<2->mlflow) (1.2.0)\n",
      "Requirement already satisfied: threadpoolctl>=2.0.0 in /usr/local/lib/python3.9/site-packages (from scikit-learn<2->mlflow) (3.2.0)\n",
      "Requirement already satisfied: greenlet!=0.4.17 in /usr/local/lib/python3.9/site-packages (from sqlalchemy<3,>=1.4.0->mlflow) (3.0.0)\n",
      "Requirement already satisfied: smmap<6,>=3.0.1 in /usr/local/lib/python3.9/site-packages (from gitdb<5,>=4.0.1->gitpython<4,>=2.1.0->mlflow) (5.0.1)\n",
      "Requirement already satisfied: tomli>=1.0.0 in /usr/local/lib/python3.9/site-packages (from setuptools-scm>=4->matplotlib<4->mlflow) (1.2.2)\n",
      "Requirement already satisfied: setuptools in /usr/local/lib/python3.9/site-packages (from setuptools-scm>=4->matplotlib<4->mlflow) (56.0.0)\n",
      "\u001b[33mWARNING: You are using pip version 21.3.1; however, version 23.2.1 is available.\n",
      "You should consider upgrading via the '/usr/local/opt/python@3.9/bin/python3.9 -m pip install --upgrade pip' command.\u001b[0m\n",
      "Note: you may need to restart the kernel to use updated packages.\n"
     ]
    }
   ],
   "source": [
    "pip install mlflow "
   ]
  },
  {
   "cell_type": "code",
   "execution_count": 85,
   "id": "87c73cc1",
   "metadata": {
    "execution": {
     "iopub.execute_input": "2023-10-10T09:51:27.718293Z",
     "iopub.status.busy": "2023-10-10T09:51:27.718009Z",
     "iopub.status.idle": "2023-10-10T09:51:42.501643Z",
     "shell.execute_reply": "2023-10-10T09:51:42.500508Z"
    },
    "papermill": {
     "duration": 14.793258,
     "end_time": "2023-10-10T09:51:42.504010",
     "exception": false,
     "start_time": "2023-10-10T09:51:27.710752",
     "status": "completed"
    },
    "tags": []
   },
   "outputs": [
    {
     "name": "stdout",
     "output_type": "stream",
     "text": [
      "\u001b[33mDEPRECATION: Configuring installation scheme with distutils config files is deprecated and will no longer work in the near future. If you are using a Homebrew or Linuxbrew Python, please see discussion at https://github.com/Homebrew/homebrew-core/issues/76621\u001b[0m\n",
      "Requirement already satisfied: mlflow in /usr/local/lib/python3.9/site-packages (2.7.1)\n",
      "Requirement already satisfied: dagshub in /usr/local/lib/python3.9/site-packages (0.3.8.post1)\n",
      "Requirement already satisfied: sqlparse<1,>=0.4.0 in /usr/local/lib/python3.9/site-packages (from mlflow) (0.4.4)\n",
      "Requirement already satisfied: click<9,>=7.0 in /usr/local/lib/python3.9/site-packages (from mlflow) (8.1.7)\n",
      "Requirement already satisfied: docker<7,>=4.0.0 in /usr/local/lib/python3.9/site-packages (from mlflow) (6.1.3)\n",
      "Requirement already satisfied: Flask<3 in /usr/local/lib/python3.9/site-packages (from mlflow) (2.3.3)\n",
      "Requirement already satisfied: sqlalchemy<3,>=1.4.0 in /usr/local/lib/python3.9/site-packages (from mlflow) (2.0.22)\n",
      "Requirement already satisfied: matplotlib<4 in /usr/local/lib/python3.9/site-packages (from mlflow) (3.5.0)\n",
      "Requirement already satisfied: scipy<2 in /usr/local/lib/python3.9/site-packages (from mlflow) (1.9.3)\n",
      "Requirement already satisfied: importlib-metadata!=4.7.0,<7,>=3.7.0 in /usr/local/lib/python3.9/site-packages (from mlflow) (6.8.0)\n",
      "Requirement already satisfied: entrypoints<1 in /Users/violeta/Library/Python/3.9/lib/python/site-packages (from mlflow) (0.4)\n",
      "Requirement already satisfied: markdown<4,>=3.3 in /usr/local/lib/python3.9/site-packages (from mlflow) (3.5)\n",
      "Requirement already satisfied: pyyaml<7,>=5.1 in /usr/local/lib/python3.9/site-packages (from mlflow) (5.4.1)\n",
      "Requirement already satisfied: gitpython<4,>=2.1.0 in /usr/local/lib/python3.9/site-packages (from mlflow) (3.1.38)\n",
      "Requirement already satisfied: databricks-cli<1,>=0.8.7 in /usr/local/lib/python3.9/site-packages (from mlflow) (0.18.0)\n",
      "Requirement already satisfied: alembic!=1.10.0,<2 in /usr/local/lib/python3.9/site-packages (from mlflow) (1.12.0)\n",
      "Requirement already satisfied: gunicorn<22 in /usr/local/lib/python3.9/site-packages (from mlflow) (21.2.0)\n",
      "Requirement already satisfied: cloudpickle<3 in /usr/local/lib/python3.9/site-packages (from mlflow) (2.2.1)\n",
      "Requirement already satisfied: Jinja2<4,>=2.11 in /usr/local/lib/python3.9/site-packages (from mlflow) (3.1.2)\n",
      "Requirement already satisfied: querystring-parser<2 in /usr/local/lib/python3.9/site-packages (from mlflow) (1.2.4)\n",
      "Requirement already satisfied: pandas<3 in /usr/local/lib/python3.9/site-packages (from mlflow) (1.5.3)\n",
      "Requirement already satisfied: scikit-learn<2 in /usr/local/lib/python3.9/site-packages (from mlflow) (1.3.1)\n",
      "Requirement already satisfied: protobuf<5,>=3.12.0 in /usr/local/lib/python3.9/site-packages (from mlflow) (4.24.4)\n",
      "Requirement already satisfied: pytz<2024 in /usr/local/lib/python3.9/site-packages (from mlflow) (2023.3.post1)\n",
      "Requirement already satisfied: pyarrow<14,>=4.0.0 in /usr/local/lib/python3.9/site-packages (from mlflow) (13.0.0)\n",
      "Requirement already satisfied: packaging<24 in /usr/local/lib/python3.9/site-packages (from mlflow) (21.3)\n",
      "Requirement already satisfied: requests<3,>=2.17.3 in /usr/local/lib/python3.9/site-packages (from mlflow) (2.31.0)\n",
      "Requirement already satisfied: numpy<2 in /usr/local/lib/python3.9/site-packages (from mlflow) (1.22.4)\n",
      "Requirement already satisfied: python-dateutil in /Users/violeta/Library/Python/3.9/lib/python/site-packages (from dagshub) (2.8.2)\n",
      "Requirement already satisfied: appdirs>=1.4.4 in /usr/local/lib/python3.9/site-packages (from dagshub) (1.4.4)\n",
      "Requirement already satisfied: gql[requests] in /usr/local/lib/python3.9/site-packages (from dagshub) (3.4.1)\n",
      "Requirement already satisfied: treelib~=1.6.4 in /usr/local/lib/python3.9/site-packages (from dagshub) (1.6.4)\n",
      "Requirement already satisfied: tenacity~=8.2.2 in /usr/local/lib/python3.9/site-packages (from dagshub) (8.2.3)\n",
      "Requirement already satisfied: dataclasses-json in /usr/local/lib/python3.9/site-packages (from dagshub) (0.6.1)\n",
      "Requirement already satisfied: fusepy>=3 in /usr/local/lib/python3.9/site-packages (from dagshub) (3.0.1)\n",
      "Requirement already satisfied: pathvalidate~=3.0.0 in /usr/local/lib/python3.9/site-packages (from dagshub) (3.0.0)\n",
      "Requirement already satisfied: dacite~=1.6.0 in /usr/local/lib/python3.9/site-packages (from dagshub) (1.6.0)\n",
      "Requirement already satisfied: rich[jupyter]~=13.1.0 in /usr/local/lib/python3.9/site-packages (from dagshub) (13.1.0)\n",
      "Requirement already satisfied: httpx~=0.23.0 in /usr/local/lib/python3.9/site-packages (from dagshub) (0.23.3)\n",
      "Requirement already satisfied: Mako in /usr/local/lib/python3.9/site-packages (from alembic!=1.10.0,<2->mlflow) (1.2.4)\n",
      "Requirement already satisfied: typing-extensions>=4 in /usr/local/lib/python3.9/site-packages (from alembic!=1.10.0,<2->mlflow) (4.8.0)\n",
      "Requirement already satisfied: tabulate>=0.7.7 in /usr/local/lib/python3.9/site-packages (from databricks-cli<1,>=0.8.7->mlflow) (0.9.0)\n",
      "Requirement already satisfied: urllib3<3,>=1.26.7 in /usr/local/lib/python3.9/site-packages (from databricks-cli<1,>=0.8.7->mlflow) (1.26.17)\n",
      "Requirement already satisfied: pyjwt>=1.7.0 in /usr/local/lib/python3.9/site-packages (from databricks-cli<1,>=0.8.7->mlflow) (2.8.0)\n",
      "Requirement already satisfied: six>=1.10.0 in /usr/local/lib/python3.9/site-packages (from databricks-cli<1,>=0.8.7->mlflow) (1.15.0)\n",
      "Requirement already satisfied: oauthlib>=3.1.0 in /usr/local/lib/python3.9/site-packages (from databricks-cli<1,>=0.8.7->mlflow) (3.2.2)\n",
      "Requirement already satisfied: websocket-client>=0.32.0 in /usr/local/lib/python3.9/site-packages (from docker<7,>=4.0.0->mlflow) (1.6.4)\n",
      "Requirement already satisfied: Werkzeug>=2.3.7 in /usr/local/lib/python3.9/site-packages (from Flask<3->mlflow) (3.0.0)\n",
      "Requirement already satisfied: blinker>=1.6.2 in /usr/local/lib/python3.9/site-packages (from Flask<3->mlflow) (1.6.3)\n",
      "Requirement already satisfied: itsdangerous>=2.1.2 in /usr/local/lib/python3.9/site-packages (from Flask<3->mlflow) (2.1.2)\n",
      "Requirement already satisfied: gitdb<5,>=4.0.1 in /usr/local/lib/python3.9/site-packages (from gitpython<4,>=2.1.0->mlflow) (4.0.10)\n",
      "Requirement already satisfied: httpcore<0.17.0,>=0.15.0 in /usr/local/lib/python3.9/site-packages (from httpx~=0.23.0->dagshub) (0.16.3)\n",
      "Requirement already satisfied: rfc3986[idna2008]<2,>=1.3 in /usr/local/lib/python3.9/site-packages (from httpx~=0.23.0->dagshub) (1.5.0)\n",
      "Requirement already satisfied: certifi in /usr/local/lib/python3.9/site-packages (from httpx~=0.23.0->dagshub) (2020.12.5)\n",
      "Requirement already satisfied: sniffio in /usr/local/lib/python3.9/site-packages (from httpx~=0.23.0->dagshub) (1.3.0)\n",
      "Requirement already satisfied: zipp>=0.5 in /usr/local/lib/python3.9/site-packages (from importlib-metadata!=4.7.0,<7,>=3.7.0->mlflow) (3.17.0)\n",
      "Requirement already satisfied: MarkupSafe>=2.0 in /usr/local/lib/python3.9/site-packages (from Jinja2<4,>=2.11->mlflow) (2.1.1)\n",
      "Requirement already satisfied: pillow>=6.2.0 in /usr/local/lib/python3.9/site-packages (from matplotlib<4->mlflow) (9.4.0)\n",
      "Requirement already satisfied: kiwisolver>=1.0.1 in /usr/local/lib/python3.9/site-packages (from matplotlib<4->mlflow) (1.3.1)\n",
      "Requirement already satisfied: setuptools-scm>=4 in /usr/local/lib/python3.9/site-packages (from matplotlib<4->mlflow) (6.3.2)\n",
      "Requirement already satisfied: fonttools>=4.22.0 in /usr/local/lib/python3.9/site-packages (from matplotlib<4->mlflow) (4.28.3)\n",
      "Requirement already satisfied: pyparsing>=2.2.1 in /usr/local/lib/python3.9/site-packages (from matplotlib<4->mlflow) (2.4.7)\n",
      "Requirement already satisfied: cycler>=0.10 in /usr/local/lib/python3.9/site-packages (from matplotlib<4->mlflow) (0.10.0)\n",
      "Requirement already satisfied: charset-normalizer<4,>=2 in /usr/local/lib/python3.9/site-packages (from requests<3,>=2.17.3->mlflow) (3.3.0)\n",
      "Requirement already satisfied: idna<4,>=2.5 in /usr/local/lib/python3.9/site-packages (from requests<3,>=2.17.3->mlflow) (2.10)\n",
      "Requirement already satisfied: pygments<3.0.0,>=2.6.0 in /Users/violeta/Library/Python/3.9/lib/python/site-packages (from rich[jupyter]~=13.1.0->dagshub) (2.13.0)\n",
      "Requirement already satisfied: commonmark<0.10.0,>=0.9.0 in /usr/local/lib/python3.9/site-packages (from rich[jupyter]~=13.1.0->dagshub) (0.9.1)\n",
      "Requirement already satisfied: ipywidgets<8.0.0,>=7.5.1 in /usr/local/lib/python3.9/site-packages (from rich[jupyter]~=13.1.0->dagshub) (7.8.1)\n",
      "Requirement already satisfied: joblib>=1.1.1 in /usr/local/lib/python3.9/site-packages (from scikit-learn<2->mlflow) (1.2.0)\n",
      "Requirement already satisfied: threadpoolctl>=2.0.0 in /usr/local/lib/python3.9/site-packages (from scikit-learn<2->mlflow) (3.2.0)\n",
      "Requirement already satisfied: greenlet!=0.4.17 in /usr/local/lib/python3.9/site-packages (from sqlalchemy<3,>=1.4.0->mlflow) (3.0.0)\n",
      "Requirement already satisfied: typing-inspect<1,>=0.4.0 in /usr/local/lib/python3.9/site-packages (from dataclasses-json->dagshub) (0.9.0)\n",
      "Requirement already satisfied: marshmallow<4.0.0,>=3.18.0 in /usr/local/lib/python3.9/site-packages (from dataclasses-json->dagshub) (3.20.1)\n",
      "Requirement already satisfied: backoff<3.0,>=1.11.1 in /usr/local/lib/python3.9/site-packages (from gql[requests]->dagshub) (2.2.1)\n",
      "Requirement already satisfied: graphql-core<3.3,>=3.2 in /usr/local/lib/python3.9/site-packages (from gql[requests]->dagshub) (3.2.3)\n",
      "Requirement already satisfied: yarl<2.0,>=1.6 in /usr/local/lib/python3.9/site-packages (from gql[requests]->dagshub) (1.9.2)\n",
      "Requirement already satisfied: requests-toolbelt<1,>=0.9.1 in /usr/local/lib/python3.9/site-packages (from gql[requests]->dagshub) (0.10.1)\n",
      "Requirement already satisfied: smmap<6,>=3.0.1 in /usr/local/lib/python3.9/site-packages (from gitdb<5,>=4.0.1->gitpython<4,>=2.1.0->mlflow) (5.0.1)\n",
      "Requirement already satisfied: anyio<5.0,>=3.0 in /usr/local/lib/python3.9/site-packages (from httpcore<0.17.0,>=0.15.0->httpx~=0.23.0->dagshub) (4.0.0)\n",
      "Requirement already satisfied: h11<0.15,>=0.13 in /usr/local/lib/python3.9/site-packages (from httpcore<0.17.0,>=0.15.0->httpx~=0.23.0->dagshub) (0.14.0)\n",
      "Requirement already satisfied: widgetsnbextension~=3.6.6 in /usr/local/lib/python3.9/site-packages (from ipywidgets<8.0.0,>=7.5.1->rich[jupyter]~=13.1.0->dagshub) (3.6.6)\n",
      "Requirement already satisfied: ipython>=4.0.0 in /Users/violeta/Library/Python/3.9/lib/python/site-packages (from ipywidgets<8.0.0,>=7.5.1->rich[jupyter]~=13.1.0->dagshub) (8.5.0)\n",
      "Requirement already satisfied: jupyterlab-widgets<3,>=1.0.0 in /usr/local/lib/python3.9/site-packages (from ipywidgets<8.0.0,>=7.5.1->rich[jupyter]~=13.1.0->dagshub) (1.1.7)\n",
      "Requirement already satisfied: ipython-genutils~=0.2.0 in /usr/local/lib/python3.9/site-packages (from ipywidgets<8.0.0,>=7.5.1->rich[jupyter]~=13.1.0->dagshub) (0.2.0)\n",
      "Requirement already satisfied: comm>=0.1.3 in /usr/local/lib/python3.9/site-packages (from ipywidgets<8.0.0,>=7.5.1->rich[jupyter]~=13.1.0->dagshub) (0.1.4)\n",
      "Requirement already satisfied: traitlets>=4.3.1 in /usr/local/lib/python3.9/site-packages (from ipywidgets<8.0.0,>=7.5.1->rich[jupyter]~=13.1.0->dagshub) (5.11.2)\n",
      "Requirement already satisfied: tomli>=1.0.0 in /usr/local/lib/python3.9/site-packages (from setuptools-scm>=4->matplotlib<4->mlflow) (1.2.2)\n",
      "Requirement already satisfied: setuptools in /usr/local/lib/python3.9/site-packages (from setuptools-scm>=4->matplotlib<4->mlflow) (56.0.0)\n",
      "Requirement already satisfied: mypy-extensions>=0.3.0 in /usr/local/lib/python3.9/site-packages (from typing-inspect<1,>=0.4.0->dataclasses-json->dagshub) (1.0.0)\n",
      "Requirement already satisfied: multidict>=4.0 in /usr/local/lib/python3.9/site-packages (from yarl<2.0,>=1.6->gql[requests]->dagshub) (6.0.4)\n",
      "Requirement already satisfied: exceptiongroup>=1.0.2 in /usr/local/lib/python3.9/site-packages (from anyio<5.0,>=3.0->httpcore<0.17.0,>=0.15.0->httpx~=0.23.0->dagshub) (1.1.3)\n",
      "Requirement already satisfied: matplotlib-inline in /Users/violeta/Library/Python/3.9/lib/python/site-packages (from ipython>=4.0.0->ipywidgets<8.0.0,>=7.5.1->rich[jupyter]~=13.1.0->dagshub) (0.1.6)\n",
      "Requirement already satisfied: stack-data in /Users/violeta/Library/Python/3.9/lib/python/site-packages (from ipython>=4.0.0->ipywidgets<8.0.0,>=7.5.1->rich[jupyter]~=13.1.0->dagshub) (0.5.1)\n",
      "Requirement already satisfied: pickleshare in /Users/violeta/Library/Python/3.9/lib/python/site-packages (from ipython>=4.0.0->ipywidgets<8.0.0,>=7.5.1->rich[jupyter]~=13.1.0->dagshub) (0.7.5)\n",
      "Requirement already satisfied: decorator in /usr/local/lib/python3.9/site-packages (from ipython>=4.0.0->ipywidgets<8.0.0,>=7.5.1->rich[jupyter]~=13.1.0->dagshub) (4.4.2)\n",
      "Requirement already satisfied: backcall in /Users/violeta/Library/Python/3.9/lib/python/site-packages (from ipython>=4.0.0->ipywidgets<8.0.0,>=7.5.1->rich[jupyter]~=13.1.0->dagshub) (0.2.0)\n",
      "Requirement already satisfied: appnope in /Users/violeta/Library/Python/3.9/lib/python/site-packages (from ipython>=4.0.0->ipywidgets<8.0.0,>=7.5.1->rich[jupyter]~=13.1.0->dagshub) (0.1.3)\n",
      "Requirement already satisfied: pexpect>4.3 in /Users/violeta/Library/Python/3.9/lib/python/site-packages (from ipython>=4.0.0->ipywidgets<8.0.0,>=7.5.1->rich[jupyter]~=13.1.0->dagshub) (4.8.0)\n",
      "Requirement already satisfied: jedi>=0.16 in /Users/violeta/Library/Python/3.9/lib/python/site-packages (from ipython>=4.0.0->ipywidgets<8.0.0,>=7.5.1->rich[jupyter]~=13.1.0->dagshub) (0.18.1)\n",
      "Requirement already satisfied: prompt-toolkit<3.1.0,>3.0.1 in /Users/violeta/Library/Python/3.9/lib/python/site-packages (from ipython>=4.0.0->ipywidgets<8.0.0,>=7.5.1->rich[jupyter]~=13.1.0->dagshub) (3.0.31)\n",
      "Requirement already satisfied: notebook>=4.4.1 in /usr/local/lib/python3.9/site-packages (from widgetsnbextension~=3.6.6->ipywidgets<8.0.0,>=7.5.1->rich[jupyter]~=13.1.0->dagshub) (7.0.5)\n",
      "Requirement already satisfied: parso<0.9.0,>=0.8.0 in /Users/violeta/Library/Python/3.9/lib/python/site-packages (from jedi>=0.16->ipython>=4.0.0->ipywidgets<8.0.0,>=7.5.1->rich[jupyter]~=13.1.0->dagshub) (0.8.3)\n",
      "Requirement already satisfied: notebook-shim<0.3,>=0.2 in /usr/local/lib/python3.9/site-packages (from notebook>=4.4.1->widgetsnbextension~=3.6.6->ipywidgets<8.0.0,>=7.5.1->rich[jupyter]~=13.1.0->dagshub) (0.2.3)\n",
      "Requirement already satisfied: tornado>=6.2.0 in /Users/violeta/Library/Python/3.9/lib/python/site-packages (from notebook>=4.4.1->widgetsnbextension~=3.6.6->ipywidgets<8.0.0,>=7.5.1->rich[jupyter]~=13.1.0->dagshub) (6.2)\n",
      "Requirement already satisfied: jupyter-server<3,>=2.4.0 in /usr/local/lib/python3.9/site-packages (from notebook>=4.4.1->widgetsnbextension~=3.6.6->ipywidgets<8.0.0,>=7.5.1->rich[jupyter]~=13.1.0->dagshub) (2.7.3)\n",
      "Requirement already satisfied: jupyterlab-server<3,>=2.22.1 in /usr/local/lib/python3.9/site-packages (from notebook>=4.4.1->widgetsnbextension~=3.6.6->ipywidgets<8.0.0,>=7.5.1->rich[jupyter]~=13.1.0->dagshub) (2.25.0)\n",
      "Requirement already satisfied: jupyterlab<5,>=4.0.2 in /usr/local/lib/python3.9/site-packages (from notebook>=4.4.1->widgetsnbextension~=3.6.6->ipywidgets<8.0.0,>=7.5.1->rich[jupyter]~=13.1.0->dagshub) (4.0.7)\n",
      "Requirement already satisfied: ptyprocess>=0.5 in /Users/violeta/Library/Python/3.9/lib/python/site-packages (from pexpect>4.3->ipython>=4.0.0->ipywidgets<8.0.0,>=7.5.1->rich[jupyter]~=13.1.0->dagshub) (0.7.0)\n",
      "Requirement already satisfied: wcwidth in /Users/violeta/Library/Python/3.9/lib/python/site-packages (from prompt-toolkit<3.1.0,>3.0.1->ipython>=4.0.0->ipywidgets<8.0.0,>=7.5.1->rich[jupyter]~=13.1.0->dagshub) (0.2.5)\n",
      "Requirement already satisfied: pure-eval in /Users/violeta/Library/Python/3.9/lib/python/site-packages (from stack-data->ipython>=4.0.0->ipywidgets<8.0.0,>=7.5.1->rich[jupyter]~=13.1.0->dagshub) (0.2.2)\n",
      "Requirement already satisfied: executing in /Users/violeta/Library/Python/3.9/lib/python/site-packages (from stack-data->ipython>=4.0.0->ipywidgets<8.0.0,>=7.5.1->rich[jupyter]~=13.1.0->dagshub) (1.1.1)\n",
      "Requirement already satisfied: asttokens in /Users/violeta/Library/Python/3.9/lib/python/site-packages (from stack-data->ipython>=4.0.0->ipywidgets<8.0.0,>=7.5.1->rich[jupyter]~=13.1.0->dagshub) (2.0.8)\n",
      "Requirement already satisfied: argon2-cffi in /usr/local/lib/python3.9/site-packages (from jupyter-server<3,>=2.4.0->notebook>=4.4.1->widgetsnbextension~=3.6.6->ipywidgets<8.0.0,>=7.5.1->rich[jupyter]~=13.1.0->dagshub) (23.1.0)\n",
      "Requirement already satisfied: prometheus-client in /usr/local/lib/python3.9/site-packages (from jupyter-server<3,>=2.4.0->notebook>=4.4.1->widgetsnbextension~=3.6.6->ipywidgets<8.0.0,>=7.5.1->rich[jupyter]~=13.1.0->dagshub) (0.17.1)\n",
      "Requirement already satisfied: jupyter-events>=0.6.0 in /usr/local/lib/python3.9/site-packages (from jupyter-server<3,>=2.4.0->notebook>=4.4.1->widgetsnbextension~=3.6.6->ipywidgets<8.0.0,>=7.5.1->rich[jupyter]~=13.1.0->dagshub) (0.7.0)\n",
      "Requirement already satisfied: jupyter-server-terminals in /usr/local/lib/python3.9/site-packages (from jupyter-server<3,>=2.4.0->notebook>=4.4.1->widgetsnbextension~=3.6.6->ipywidgets<8.0.0,>=7.5.1->rich[jupyter]~=13.1.0->dagshub) (0.4.4)\n",
      "Requirement already satisfied: nbconvert>=6.4.4 in /usr/local/lib/python3.9/site-packages (from jupyter-server<3,>=2.4.0->notebook>=4.4.1->widgetsnbextension~=3.6.6->ipywidgets<8.0.0,>=7.5.1->rich[jupyter]~=13.1.0->dagshub) (7.9.2)\n",
      "Requirement already satisfied: overrides in /usr/local/lib/python3.9/site-packages (from jupyter-server<3,>=2.4.0->notebook>=4.4.1->widgetsnbextension~=3.6.6->ipywidgets<8.0.0,>=7.5.1->rich[jupyter]~=13.1.0->dagshub) (7.4.0)\n",
      "Requirement already satisfied: terminado>=0.8.3 in /usr/local/lib/python3.9/site-packages (from jupyter-server<3,>=2.4.0->notebook>=4.4.1->widgetsnbextension~=3.6.6->ipywidgets<8.0.0,>=7.5.1->rich[jupyter]~=13.1.0->dagshub) (0.17.1)\n",
      "Requirement already satisfied: jupyter-core!=5.0.*,>=4.12 in /usr/local/lib/python3.9/site-packages (from jupyter-server<3,>=2.4.0->notebook>=4.4.1->widgetsnbextension~=3.6.6->ipywidgets<8.0.0,>=7.5.1->rich[jupyter]~=13.1.0->dagshub) (5.4.0)\n",
      "Requirement already satisfied: nbformat>=5.3.0 in /usr/local/lib/python3.9/site-packages (from jupyter-server<3,>=2.4.0->notebook>=4.4.1->widgetsnbextension~=3.6.6->ipywidgets<8.0.0,>=7.5.1->rich[jupyter]~=13.1.0->dagshub) (5.9.2)\n",
      "Requirement already satisfied: pyzmq>=24 in /Users/violeta/Library/Python/3.9/lib/python/site-packages (from jupyter-server<3,>=2.4.0->notebook>=4.4.1->widgetsnbextension~=3.6.6->ipywidgets<8.0.0,>=7.5.1->rich[jupyter]~=13.1.0->dagshub) (24.0.1)\n",
      "Requirement already satisfied: send2trash>=1.8.2 in /usr/local/lib/python3.9/site-packages (from jupyter-server<3,>=2.4.0->notebook>=4.4.1->widgetsnbextension~=3.6.6->ipywidgets<8.0.0,>=7.5.1->rich[jupyter]~=13.1.0->dagshub) (1.8.2)\n",
      "Requirement already satisfied: jupyter-client>=7.4.4 in /usr/local/lib/python3.9/site-packages (from jupyter-server<3,>=2.4.0->notebook>=4.4.1->widgetsnbextension~=3.6.6->ipywidgets<8.0.0,>=7.5.1->rich[jupyter]~=13.1.0->dagshub) (8.4.0)\n",
      "Requirement already satisfied: async-lru>=1.0.0 in /usr/local/lib/python3.9/site-packages (from jupyterlab<5,>=4.0.2->notebook>=4.4.1->widgetsnbextension~=3.6.6->ipywidgets<8.0.0,>=7.5.1->rich[jupyter]~=13.1.0->dagshub) (2.0.4)\n",
      "Requirement already satisfied: jupyter-lsp>=2.0.0 in /usr/local/lib/python3.9/site-packages (from jupyterlab<5,>=4.0.2->notebook>=4.4.1->widgetsnbextension~=3.6.6->ipywidgets<8.0.0,>=7.5.1->rich[jupyter]~=13.1.0->dagshub) (2.2.0)\n",
      "Requirement already satisfied: ipykernel in /Users/violeta/Library/Python/3.9/lib/python/site-packages (from jupyterlab<5,>=4.0.2->notebook>=4.4.1->widgetsnbextension~=3.6.6->ipywidgets<8.0.0,>=7.5.1->rich[jupyter]~=13.1.0->dagshub) (6.16.0)\n",
      "Requirement already satisfied: jsonschema>=4.18.0 in /usr/local/lib/python3.9/site-packages (from jupyterlab-server<3,>=2.22.1->notebook>=4.4.1->widgetsnbextension~=3.6.6->ipywidgets<8.0.0,>=7.5.1->rich[jupyter]~=13.1.0->dagshub) (4.19.1)\n",
      "Requirement already satisfied: json5>=0.9.0 in /usr/local/lib/python3.9/site-packages (from jupyterlab-server<3,>=2.22.1->notebook>=4.4.1->widgetsnbextension~=3.6.6->ipywidgets<8.0.0,>=7.5.1->rich[jupyter]~=13.1.0->dagshub) (0.9.14)\n",
      "Requirement already satisfied: babel>=2.10 in /usr/local/lib/python3.9/site-packages (from jupyterlab-server<3,>=2.22.1->notebook>=4.4.1->widgetsnbextension~=3.6.6->ipywidgets<8.0.0,>=7.5.1->rich[jupyter]~=13.1.0->dagshub) (2.13.0)\n",
      "Requirement already satisfied: referencing>=0.28.4 in /usr/local/lib/python3.9/site-packages (from jsonschema>=4.18.0->jupyterlab-server<3,>=2.22.1->notebook>=4.4.1->widgetsnbextension~=3.6.6->ipywidgets<8.0.0,>=7.5.1->rich[jupyter]~=13.1.0->dagshub) (0.30.2)\n",
      "Requirement already satisfied: rpds-py>=0.7.1 in /usr/local/lib/python3.9/site-packages (from jsonschema>=4.18.0->jupyterlab-server<3,>=2.22.1->notebook>=4.4.1->widgetsnbextension~=3.6.6->ipywidgets<8.0.0,>=7.5.1->rich[jupyter]~=13.1.0->dagshub) (0.10.6)\n",
      "Requirement already satisfied: attrs>=22.2.0 in /usr/local/lib/python3.9/site-packages (from jsonschema>=4.18.0->jupyterlab-server<3,>=2.22.1->notebook>=4.4.1->widgetsnbextension~=3.6.6->ipywidgets<8.0.0,>=7.5.1->rich[jupyter]~=13.1.0->dagshub) (23.1.0)\n",
      "Requirement already satisfied: jsonschema-specifications>=2023.03.6 in /usr/local/lib/python3.9/site-packages (from jsonschema>=4.18.0->jupyterlab-server<3,>=2.22.1->notebook>=4.4.1->widgetsnbextension~=3.6.6->ipywidgets<8.0.0,>=7.5.1->rich[jupyter]~=13.1.0->dagshub) (2023.7.1)\n",
      "Requirement already satisfied: platformdirs>=2.5 in /usr/local/lib/python3.9/site-packages (from jupyter-core!=5.0.*,>=4.12->jupyter-server<3,>=2.4.0->notebook>=4.4.1->widgetsnbextension~=3.6.6->ipywidgets<8.0.0,>=7.5.1->rich[jupyter]~=13.1.0->dagshub) (3.11.0)\n",
      "Requirement already satisfied: python-json-logger>=2.0.4 in /usr/local/lib/python3.9/site-packages (from jupyter-events>=0.6.0->jupyter-server<3,>=2.4.0->notebook>=4.4.1->widgetsnbextension~=3.6.6->ipywidgets<8.0.0,>=7.5.1->rich[jupyter]~=13.1.0->dagshub) (2.0.7)\n",
      "Requirement already satisfied: rfc3986-validator>=0.1.1 in /usr/local/lib/python3.9/site-packages (from jupyter-events>=0.6.0->jupyter-server<3,>=2.4.0->notebook>=4.4.1->widgetsnbextension~=3.6.6->ipywidgets<8.0.0,>=7.5.1->rich[jupyter]~=13.1.0->dagshub) (0.1.1)\n",
      "Requirement already satisfied: rfc3339-validator in /usr/local/lib/python3.9/site-packages (from jupyter-events>=0.6.0->jupyter-server<3,>=2.4.0->notebook>=4.4.1->widgetsnbextension~=3.6.6->ipywidgets<8.0.0,>=7.5.1->rich[jupyter]~=13.1.0->dagshub) (0.1.4)\n",
      "Requirement already satisfied: pandocfilters>=1.4.1 in /usr/local/lib/python3.9/site-packages (from nbconvert>=6.4.4->jupyter-server<3,>=2.4.0->notebook>=4.4.1->widgetsnbextension~=3.6.6->ipywidgets<8.0.0,>=7.5.1->rich[jupyter]~=13.1.0->dagshub) (1.5.0)\n",
      "Requirement already satisfied: defusedxml in /usr/local/lib/python3.9/site-packages (from nbconvert>=6.4.4->jupyter-server<3,>=2.4.0->notebook>=4.4.1->widgetsnbextension~=3.6.6->ipywidgets<8.0.0,>=7.5.1->rich[jupyter]~=13.1.0->dagshub) (0.7.1)\n",
      "Requirement already satisfied: bleach!=5.0.0 in /usr/local/lib/python3.9/site-packages (from nbconvert>=6.4.4->jupyter-server<3,>=2.4.0->notebook>=4.4.1->widgetsnbextension~=3.6.6->ipywidgets<8.0.0,>=7.5.1->rich[jupyter]~=13.1.0->dagshub) (6.1.0)\n",
      "Requirement already satisfied: jupyterlab-pygments in /usr/local/lib/python3.9/site-packages (from nbconvert>=6.4.4->jupyter-server<3,>=2.4.0->notebook>=4.4.1->widgetsnbextension~=3.6.6->ipywidgets<8.0.0,>=7.5.1->rich[jupyter]~=13.1.0->dagshub) (0.2.2)\n",
      "Requirement already satisfied: mistune<4,>=2.0.3 in /usr/local/lib/python3.9/site-packages (from nbconvert>=6.4.4->jupyter-server<3,>=2.4.0->notebook>=4.4.1->widgetsnbextension~=3.6.6->ipywidgets<8.0.0,>=7.5.1->rich[jupyter]~=13.1.0->dagshub) (3.0.2)\n",
      "Requirement already satisfied: beautifulsoup4 in /usr/local/lib/python3.9/site-packages (from nbconvert>=6.4.4->jupyter-server<3,>=2.4.0->notebook>=4.4.1->widgetsnbextension~=3.6.6->ipywidgets<8.0.0,>=7.5.1->rich[jupyter]~=13.1.0->dagshub) (4.12.2)\n",
      "Requirement already satisfied: nbclient>=0.5.0 in /usr/local/lib/python3.9/site-packages (from nbconvert>=6.4.4->jupyter-server<3,>=2.4.0->notebook>=4.4.1->widgetsnbextension~=3.6.6->ipywidgets<8.0.0,>=7.5.1->rich[jupyter]~=13.1.0->dagshub) (0.8.0)\n",
      "Requirement already satisfied: tinycss2 in /usr/local/lib/python3.9/site-packages (from nbconvert>=6.4.4->jupyter-server<3,>=2.4.0->notebook>=4.4.1->widgetsnbextension~=3.6.6->ipywidgets<8.0.0,>=7.5.1->rich[jupyter]~=13.1.0->dagshub) (1.2.1)\n",
      "Requirement already satisfied: fastjsonschema in /usr/local/lib/python3.9/site-packages (from nbformat>=5.3.0->jupyter-server<3,>=2.4.0->notebook>=4.4.1->widgetsnbextension~=3.6.6->ipywidgets<8.0.0,>=7.5.1->rich[jupyter]~=13.1.0->dagshub) (2.18.1)\n",
      "Requirement already satisfied: argon2-cffi-bindings in /usr/local/lib/python3.9/site-packages (from argon2-cffi->jupyter-server<3,>=2.4.0->notebook>=4.4.1->widgetsnbextension~=3.6.6->ipywidgets<8.0.0,>=7.5.1->rich[jupyter]~=13.1.0->dagshub) (21.2.0)\n",
      "Requirement already satisfied: psutil in /Users/violeta/Library/Python/3.9/lib/python/site-packages (from ipykernel->jupyterlab<5,>=4.0.2->notebook>=4.4.1->widgetsnbextension~=3.6.6->ipywidgets<8.0.0,>=7.5.1->rich[jupyter]~=13.1.0->dagshub) (5.9.2)\n",
      "Requirement already satisfied: debugpy>=1.0 in /Users/violeta/Library/Python/3.9/lib/python/site-packages (from ipykernel->jupyterlab<5,>=4.0.2->notebook>=4.4.1->widgetsnbextension~=3.6.6->ipywidgets<8.0.0,>=7.5.1->rich[jupyter]~=13.1.0->dagshub) (1.6.3)\n",
      "Requirement already satisfied: nest-asyncio in /Users/violeta/Library/Python/3.9/lib/python/site-packages (from ipykernel->jupyterlab<5,>=4.0.2->notebook>=4.4.1->widgetsnbextension~=3.6.6->ipywidgets<8.0.0,>=7.5.1->rich[jupyter]~=13.1.0->dagshub) (1.5.6)\n",
      "Requirement already satisfied: webencodings in /usr/local/lib/python3.9/site-packages (from bleach!=5.0.0->nbconvert>=6.4.4->jupyter-server<3,>=2.4.0->notebook>=4.4.1->widgetsnbextension~=3.6.6->ipywidgets<8.0.0,>=7.5.1->rich[jupyter]~=13.1.0->dagshub) (0.5.1)\n",
      "Requirement already satisfied: jsonpointer>1.13 in /usr/local/lib/python3.9/site-packages (from jsonschema>=4.18.0->jupyterlab-server<3,>=2.22.1->notebook>=4.4.1->widgetsnbextension~=3.6.6->ipywidgets<8.0.0,>=7.5.1->rich[jupyter]~=13.1.0->dagshub) (2.4)\n",
      "Requirement already satisfied: webcolors>=1.11 in /usr/local/lib/python3.9/site-packages (from jsonschema>=4.18.0->jupyterlab-server<3,>=2.22.1->notebook>=4.4.1->widgetsnbextension~=3.6.6->ipywidgets<8.0.0,>=7.5.1->rich[jupyter]~=13.1.0->dagshub) (1.13)\n",
      "Requirement already satisfied: uri-template in /usr/local/lib/python3.9/site-packages (from jsonschema>=4.18.0->jupyterlab-server<3,>=2.22.1->notebook>=4.4.1->widgetsnbextension~=3.6.6->ipywidgets<8.0.0,>=7.5.1->rich[jupyter]~=13.1.0->dagshub) (1.3.0)\n",
      "Requirement already satisfied: isoduration in /usr/local/lib/python3.9/site-packages (from jsonschema>=4.18.0->jupyterlab-server<3,>=2.22.1->notebook>=4.4.1->widgetsnbextension~=3.6.6->ipywidgets<8.0.0,>=7.5.1->rich[jupyter]~=13.1.0->dagshub) (20.11.0)\n",
      "Requirement already satisfied: fqdn in /usr/local/lib/python3.9/site-packages (from jsonschema>=4.18.0->jupyterlab-server<3,>=2.22.1->notebook>=4.4.1->widgetsnbextension~=3.6.6->ipywidgets<8.0.0,>=7.5.1->rich[jupyter]~=13.1.0->dagshub) (1.5.1)\n",
      "Requirement already satisfied: cffi>=1.0.1 in /usr/local/lib/python3.9/site-packages (from argon2-cffi-bindings->argon2-cffi->jupyter-server<3,>=2.4.0->notebook>=4.4.1->widgetsnbextension~=3.6.6->ipywidgets<8.0.0,>=7.5.1->rich[jupyter]~=13.1.0->dagshub) (1.16.0)\n",
      "Requirement already satisfied: soupsieve>1.2 in /usr/local/lib/python3.9/site-packages (from beautifulsoup4->nbconvert>=6.4.4->jupyter-server<3,>=2.4.0->notebook>=4.4.1->widgetsnbextension~=3.6.6->ipywidgets<8.0.0,>=7.5.1->rich[jupyter]~=13.1.0->dagshub) (2.5)\n",
      "Requirement already satisfied: pycparser in /usr/local/lib/python3.9/site-packages (from cffi>=1.0.1->argon2-cffi-bindings->argon2-cffi->jupyter-server<3,>=2.4.0->notebook>=4.4.1->widgetsnbextension~=3.6.6->ipywidgets<8.0.0,>=7.5.1->rich[jupyter]~=13.1.0->dagshub) (2.21)\n",
      "Requirement already satisfied: arrow>=0.15.0 in /usr/local/lib/python3.9/site-packages (from isoduration->jsonschema>=4.18.0->jupyterlab-server<3,>=2.22.1->notebook>=4.4.1->widgetsnbextension~=3.6.6->ipywidgets<8.0.0,>=7.5.1->rich[jupyter]~=13.1.0->dagshub) (1.3.0)\n",
      "Requirement already satisfied: types-python-dateutil>=2.8.10 in /usr/local/lib/python3.9/site-packages (from arrow>=0.15.0->isoduration->jsonschema>=4.18.0->jupyterlab-server<3,>=2.22.1->notebook>=4.4.1->widgetsnbextension~=3.6.6->ipywidgets<8.0.0,>=7.5.1->rich[jupyter]~=13.1.0->dagshub) (2.8.19.14)\n",
      "\u001b[33mWARNING: You are using pip version 21.3.1; however, version 23.2.1 is available.\n",
      "You should consider upgrading via the '/usr/local/opt/python@3.9/bin/python3.9 -m pip install --upgrade pip' command.\u001b[0m\n"
     ]
    }
   ],
   "source": [
    "!pip install mlflow dagshub"
   ]
  },
  {
   "cell_type": "code",
   "execution_count": 86,
   "id": "ccc13e50",
   "metadata": {},
   "outputs": [
    {
     "name": "stdout",
     "output_type": "stream",
     "text": [
      "\u001b[33mDEPRECATION: Configuring installation scheme with distutils config files is deprecated and will no longer work in the near future. If you are using a Homebrew or Linuxbrew Python, please see discussion at https://github.com/Homebrew/homebrew-core/issues/76621\u001b[0m\n",
      "Requirement already satisfied: dagshub in /usr/local/lib/python3.9/site-packages (0.3.8.post1)\n",
      "Requirement already satisfied: gql[requests] in /usr/local/lib/python3.9/site-packages (from dagshub) (3.4.1)\n",
      "Requirement already satisfied: GitPython>=3.1.29 in /usr/local/lib/python3.9/site-packages (from dagshub) (3.1.38)\n",
      "Requirement already satisfied: dacite~=1.6.0 in /usr/local/lib/python3.9/site-packages (from dagshub) (1.6.0)\n",
      "Requirement already satisfied: dataclasses-json in /usr/local/lib/python3.9/site-packages (from dagshub) (0.6.1)\n",
      "Requirement already satisfied: httpx~=0.23.0 in /usr/local/lib/python3.9/site-packages (from dagshub) (0.23.3)\n",
      "Requirement already satisfied: rich[jupyter]~=13.1.0 in /usr/local/lib/python3.9/site-packages (from dagshub) (13.1.0)\n",
      "Requirement already satisfied: tenacity~=8.2.2 in /usr/local/lib/python3.9/site-packages (from dagshub) (8.2.3)\n",
      "Requirement already satisfied: treelib~=1.6.4 in /usr/local/lib/python3.9/site-packages (from dagshub) (1.6.4)\n",
      "Requirement already satisfied: fusepy>=3 in /usr/local/lib/python3.9/site-packages (from dagshub) (3.0.1)\n",
      "Requirement already satisfied: appdirs>=1.4.4 in /usr/local/lib/python3.9/site-packages (from dagshub) (1.4.4)\n",
      "Requirement already satisfied: pathvalidate~=3.0.0 in /usr/local/lib/python3.9/site-packages (from dagshub) (3.0.0)\n",
      "Requirement already satisfied: click>=8.0.4 in /usr/local/lib/python3.9/site-packages (from dagshub) (8.1.7)\n",
      "Requirement already satisfied: pandas in /usr/local/lib/python3.9/site-packages (from dagshub) (1.5.3)\n",
      "Requirement already satisfied: python-dateutil in /Users/violeta/Library/Python/3.9/lib/python/site-packages (from dagshub) (2.8.2)\n",
      "Requirement already satisfied: PyYAML>=5 in /usr/local/lib/python3.9/site-packages (from dagshub) (5.4.1)\n",
      "Requirement already satisfied: gitdb<5,>=4.0.1 in /usr/local/lib/python3.9/site-packages (from GitPython>=3.1.29->dagshub) (4.0.10)\n",
      "Requirement already satisfied: certifi in /usr/local/lib/python3.9/site-packages (from httpx~=0.23.0->dagshub) (2020.12.5)\n",
      "Requirement already satisfied: httpcore<0.17.0,>=0.15.0 in /usr/local/lib/python3.9/site-packages (from httpx~=0.23.0->dagshub) (0.16.3)\n",
      "Requirement already satisfied: sniffio in /usr/local/lib/python3.9/site-packages (from httpx~=0.23.0->dagshub) (1.3.0)\n",
      "Requirement already satisfied: rfc3986[idna2008]<2,>=1.3 in /usr/local/lib/python3.9/site-packages (from httpx~=0.23.0->dagshub) (1.5.0)\n",
      "Requirement already satisfied: pygments<3.0.0,>=2.6.0 in /Users/violeta/Library/Python/3.9/lib/python/site-packages (from rich[jupyter]~=13.1.0->dagshub) (2.13.0)\n",
      "Requirement already satisfied: commonmark<0.10.0,>=0.9.0 in /usr/local/lib/python3.9/site-packages (from rich[jupyter]~=13.1.0->dagshub) (0.9.1)\n",
      "Requirement already satisfied: ipywidgets<8.0.0,>=7.5.1 in /usr/local/lib/python3.9/site-packages (from rich[jupyter]~=13.1.0->dagshub) (7.8.1)\n",
      "Requirement already satisfied: six in /usr/local/lib/python3.9/site-packages (from treelib~=1.6.4->dagshub) (1.15.0)\n",
      "Requirement already satisfied: marshmallow<4.0.0,>=3.18.0 in /usr/local/lib/python3.9/site-packages (from dataclasses-json->dagshub) (3.20.1)\n",
      "Requirement already satisfied: typing-inspect<1,>=0.4.0 in /usr/local/lib/python3.9/site-packages (from dataclasses-json->dagshub) (0.9.0)\n",
      "Requirement already satisfied: graphql-core<3.3,>=3.2 in /usr/local/lib/python3.9/site-packages (from gql[requests]->dagshub) (3.2.3)\n",
      "Requirement already satisfied: yarl<2.0,>=1.6 in /usr/local/lib/python3.9/site-packages (from gql[requests]->dagshub) (1.9.2)\n",
      "Requirement already satisfied: backoff<3.0,>=1.11.1 in /usr/local/lib/python3.9/site-packages (from gql[requests]->dagshub) (2.2.1)\n",
      "Requirement already satisfied: requests<3,>=2.26 in /usr/local/lib/python3.9/site-packages (from gql[requests]->dagshub) (2.31.0)\n",
      "Requirement already satisfied: urllib3<2,>=1.26 in /usr/local/lib/python3.9/site-packages (from gql[requests]->dagshub) (1.26.17)\n",
      "Requirement already satisfied: requests-toolbelt<1,>=0.9.1 in /usr/local/lib/python3.9/site-packages (from gql[requests]->dagshub) (0.10.1)\n",
      "Requirement already satisfied: pytz>=2020.1 in /usr/local/lib/python3.9/site-packages (from pandas->dagshub) (2023.3.post1)\n",
      "Requirement already satisfied: numpy>=1.20.3 in /usr/local/lib/python3.9/site-packages (from pandas->dagshub) (1.22.4)\n",
      "Requirement already satisfied: smmap<6,>=3.0.1 in /usr/local/lib/python3.9/site-packages (from gitdb<5,>=4.0.1->GitPython>=3.1.29->dagshub) (5.0.1)\n",
      "Requirement already satisfied: anyio<5.0,>=3.0 in /usr/local/lib/python3.9/site-packages (from httpcore<0.17.0,>=0.15.0->httpx~=0.23.0->dagshub) (4.0.0)\n",
      "Requirement already satisfied: h11<0.15,>=0.13 in /usr/local/lib/python3.9/site-packages (from httpcore<0.17.0,>=0.15.0->httpx~=0.23.0->dagshub) (0.14.0)\n",
      "Requirement already satisfied: traitlets>=4.3.1 in /usr/local/lib/python3.9/site-packages (from ipywidgets<8.0.0,>=7.5.1->rich[jupyter]~=13.1.0->dagshub) (5.11.2)\n",
      "Requirement already satisfied: comm>=0.1.3 in /usr/local/lib/python3.9/site-packages (from ipywidgets<8.0.0,>=7.5.1->rich[jupyter]~=13.1.0->dagshub) (0.1.4)\n",
      "Requirement already satisfied: jupyterlab-widgets<3,>=1.0.0 in /usr/local/lib/python3.9/site-packages (from ipywidgets<8.0.0,>=7.5.1->rich[jupyter]~=13.1.0->dagshub) (1.1.7)\n",
      "Requirement already satisfied: ipython-genutils~=0.2.0 in /usr/local/lib/python3.9/site-packages (from ipywidgets<8.0.0,>=7.5.1->rich[jupyter]~=13.1.0->dagshub) (0.2.0)\n",
      "Requirement already satisfied: ipython>=4.0.0 in /Users/violeta/Library/Python/3.9/lib/python/site-packages (from ipywidgets<8.0.0,>=7.5.1->rich[jupyter]~=13.1.0->dagshub) (8.5.0)\n",
      "Requirement already satisfied: widgetsnbextension~=3.6.6 in /usr/local/lib/python3.9/site-packages (from ipywidgets<8.0.0,>=7.5.1->rich[jupyter]~=13.1.0->dagshub) (3.6.6)\n",
      "Requirement already satisfied: packaging>=17.0 in /usr/local/lib/python3.9/site-packages (from marshmallow<4.0.0,>=3.18.0->dataclasses-json->dagshub) (21.3)\n",
      "Requirement already satisfied: charset-normalizer<4,>=2 in /usr/local/lib/python3.9/site-packages (from requests<3,>=2.26->gql[requests]->dagshub) (3.3.0)\n",
      "Requirement already satisfied: idna<4,>=2.5 in /usr/local/lib/python3.9/site-packages (from requests<3,>=2.26->gql[requests]->dagshub) (2.10)\n",
      "Requirement already satisfied: mypy-extensions>=0.3.0 in /usr/local/lib/python3.9/site-packages (from typing-inspect<1,>=0.4.0->dataclasses-json->dagshub) (1.0.0)\n",
      "Requirement already satisfied: typing-extensions>=3.7.4 in /usr/local/lib/python3.9/site-packages (from typing-inspect<1,>=0.4.0->dataclasses-json->dagshub) (4.8.0)\n",
      "Requirement already satisfied: multidict>=4.0 in /usr/local/lib/python3.9/site-packages (from yarl<2.0,>=1.6->gql[requests]->dagshub) (6.0.4)\n",
      "Requirement already satisfied: exceptiongroup>=1.0.2 in /usr/local/lib/python3.9/site-packages (from anyio<5.0,>=3.0->httpcore<0.17.0,>=0.15.0->httpx~=0.23.0->dagshub) (1.1.3)\n",
      "Requirement already satisfied: matplotlib-inline in /Users/violeta/Library/Python/3.9/lib/python/site-packages (from ipython>=4.0.0->ipywidgets<8.0.0,>=7.5.1->rich[jupyter]~=13.1.0->dagshub) (0.1.6)\n",
      "Requirement already satisfied: prompt-toolkit<3.1.0,>3.0.1 in /Users/violeta/Library/Python/3.9/lib/python/site-packages (from ipython>=4.0.0->ipywidgets<8.0.0,>=7.5.1->rich[jupyter]~=13.1.0->dagshub) (3.0.31)\n",
      "Requirement already satisfied: stack-data in /Users/violeta/Library/Python/3.9/lib/python/site-packages (from ipython>=4.0.0->ipywidgets<8.0.0,>=7.5.1->rich[jupyter]~=13.1.0->dagshub) (0.5.1)\n",
      "Requirement already satisfied: pexpect>4.3 in /Users/violeta/Library/Python/3.9/lib/python/site-packages (from ipython>=4.0.0->ipywidgets<8.0.0,>=7.5.1->rich[jupyter]~=13.1.0->dagshub) (4.8.0)\n",
      "Requirement already satisfied: backcall in /Users/violeta/Library/Python/3.9/lib/python/site-packages (from ipython>=4.0.0->ipywidgets<8.0.0,>=7.5.1->rich[jupyter]~=13.1.0->dagshub) (0.2.0)\n",
      "Requirement already satisfied: pickleshare in /Users/violeta/Library/Python/3.9/lib/python/site-packages (from ipython>=4.0.0->ipywidgets<8.0.0,>=7.5.1->rich[jupyter]~=13.1.0->dagshub) (0.7.5)\n",
      "Requirement already satisfied: appnope in /Users/violeta/Library/Python/3.9/lib/python/site-packages (from ipython>=4.0.0->ipywidgets<8.0.0,>=7.5.1->rich[jupyter]~=13.1.0->dagshub) (0.1.3)\n",
      "Requirement already satisfied: jedi>=0.16 in /Users/violeta/Library/Python/3.9/lib/python/site-packages (from ipython>=4.0.0->ipywidgets<8.0.0,>=7.5.1->rich[jupyter]~=13.1.0->dagshub) (0.18.1)\n",
      "Requirement already satisfied: decorator in /usr/local/lib/python3.9/site-packages (from ipython>=4.0.0->ipywidgets<8.0.0,>=7.5.1->rich[jupyter]~=13.1.0->dagshub) (4.4.2)\n",
      "Requirement already satisfied: pyparsing!=3.0.5,>=2.0.2 in /usr/local/lib/python3.9/site-packages (from packaging>=17.0->marshmallow<4.0.0,>=3.18.0->dataclasses-json->dagshub) (2.4.7)\n",
      "Requirement already satisfied: notebook>=4.4.1 in /usr/local/lib/python3.9/site-packages (from widgetsnbextension~=3.6.6->ipywidgets<8.0.0,>=7.5.1->rich[jupyter]~=13.1.0->dagshub) (7.0.5)\n",
      "Requirement already satisfied: parso<0.9.0,>=0.8.0 in /Users/violeta/Library/Python/3.9/lib/python/site-packages (from jedi>=0.16->ipython>=4.0.0->ipywidgets<8.0.0,>=7.5.1->rich[jupyter]~=13.1.0->dagshub) (0.8.3)\n",
      "Requirement already satisfied: jupyterlab-server<3,>=2.22.1 in /usr/local/lib/python3.9/site-packages (from notebook>=4.4.1->widgetsnbextension~=3.6.6->ipywidgets<8.0.0,>=7.5.1->rich[jupyter]~=13.1.0->dagshub) (2.25.0)\n",
      "Requirement already satisfied: tornado>=6.2.0 in /Users/violeta/Library/Python/3.9/lib/python/site-packages (from notebook>=4.4.1->widgetsnbextension~=3.6.6->ipywidgets<8.0.0,>=7.5.1->rich[jupyter]~=13.1.0->dagshub) (6.2)\n",
      "Requirement already satisfied: notebook-shim<0.3,>=0.2 in /usr/local/lib/python3.9/site-packages (from notebook>=4.4.1->widgetsnbextension~=3.6.6->ipywidgets<8.0.0,>=7.5.1->rich[jupyter]~=13.1.0->dagshub) (0.2.3)\n",
      "Requirement already satisfied: jupyter-server<3,>=2.4.0 in /usr/local/lib/python3.9/site-packages (from notebook>=4.4.1->widgetsnbextension~=3.6.6->ipywidgets<8.0.0,>=7.5.1->rich[jupyter]~=13.1.0->dagshub) (2.7.3)\n",
      "Requirement already satisfied: jupyterlab<5,>=4.0.2 in /usr/local/lib/python3.9/site-packages (from notebook>=4.4.1->widgetsnbextension~=3.6.6->ipywidgets<8.0.0,>=7.5.1->rich[jupyter]~=13.1.0->dagshub) (4.0.7)\n",
      "Requirement already satisfied: ptyprocess>=0.5 in /Users/violeta/Library/Python/3.9/lib/python/site-packages (from pexpect>4.3->ipython>=4.0.0->ipywidgets<8.0.0,>=7.5.1->rich[jupyter]~=13.1.0->dagshub) (0.7.0)\n",
      "Requirement already satisfied: wcwidth in /Users/violeta/Library/Python/3.9/lib/python/site-packages (from prompt-toolkit<3.1.0,>3.0.1->ipython>=4.0.0->ipywidgets<8.0.0,>=7.5.1->rich[jupyter]~=13.1.0->dagshub) (0.2.5)\n",
      "Requirement already satisfied: pure-eval in /Users/violeta/Library/Python/3.9/lib/python/site-packages (from stack-data->ipython>=4.0.0->ipywidgets<8.0.0,>=7.5.1->rich[jupyter]~=13.1.0->dagshub) (0.2.2)\n",
      "Requirement already satisfied: asttokens in /Users/violeta/Library/Python/3.9/lib/python/site-packages (from stack-data->ipython>=4.0.0->ipywidgets<8.0.0,>=7.5.1->rich[jupyter]~=13.1.0->dagshub) (2.0.8)\n",
      "Requirement already satisfied: executing in /Users/violeta/Library/Python/3.9/lib/python/site-packages (from stack-data->ipython>=4.0.0->ipywidgets<8.0.0,>=7.5.1->rich[jupyter]~=13.1.0->dagshub) (1.1.1)\n",
      "Requirement already satisfied: send2trash>=1.8.2 in /usr/local/lib/python3.9/site-packages (from jupyter-server<3,>=2.4.0->notebook>=4.4.1->widgetsnbextension~=3.6.6->ipywidgets<8.0.0,>=7.5.1->rich[jupyter]~=13.1.0->dagshub) (1.8.2)\n",
      "Requirement already satisfied: prometheus-client in /usr/local/lib/python3.9/site-packages (from jupyter-server<3,>=2.4.0->notebook>=4.4.1->widgetsnbextension~=3.6.6->ipywidgets<8.0.0,>=7.5.1->rich[jupyter]~=13.1.0->dagshub) (0.17.1)\n",
      "Requirement already satisfied: jupyter-server-terminals in /usr/local/lib/python3.9/site-packages (from jupyter-server<3,>=2.4.0->notebook>=4.4.1->widgetsnbextension~=3.6.6->ipywidgets<8.0.0,>=7.5.1->rich[jupyter]~=13.1.0->dagshub) (0.4.4)\n",
      "Requirement already satisfied: overrides in /usr/local/lib/python3.9/site-packages (from jupyter-server<3,>=2.4.0->notebook>=4.4.1->widgetsnbextension~=3.6.6->ipywidgets<8.0.0,>=7.5.1->rich[jupyter]~=13.1.0->dagshub) (7.4.0)\n",
      "Requirement already satisfied: nbconvert>=6.4.4 in /usr/local/lib/python3.9/site-packages (from jupyter-server<3,>=2.4.0->notebook>=4.4.1->widgetsnbextension~=3.6.6->ipywidgets<8.0.0,>=7.5.1->rich[jupyter]~=13.1.0->dagshub) (7.9.2)\n",
      "Requirement already satisfied: jupyter-core!=5.0.*,>=4.12 in /usr/local/lib/python3.9/site-packages (from jupyter-server<3,>=2.4.0->notebook>=4.4.1->widgetsnbextension~=3.6.6->ipywidgets<8.0.0,>=7.5.1->rich[jupyter]~=13.1.0->dagshub) (5.4.0)\n",
      "Requirement already satisfied: argon2-cffi in /usr/local/lib/python3.9/site-packages (from jupyter-server<3,>=2.4.0->notebook>=4.4.1->widgetsnbextension~=3.6.6->ipywidgets<8.0.0,>=7.5.1->rich[jupyter]~=13.1.0->dagshub) (23.1.0)\n",
      "Requirement already satisfied: jinja2 in /usr/local/lib/python3.9/site-packages (from jupyter-server<3,>=2.4.0->notebook>=4.4.1->widgetsnbextension~=3.6.6->ipywidgets<8.0.0,>=7.5.1->rich[jupyter]~=13.1.0->dagshub) (3.1.2)\n",
      "Requirement already satisfied: nbformat>=5.3.0 in /usr/local/lib/python3.9/site-packages (from jupyter-server<3,>=2.4.0->notebook>=4.4.1->widgetsnbextension~=3.6.6->ipywidgets<8.0.0,>=7.5.1->rich[jupyter]~=13.1.0->dagshub) (5.9.2)\n",
      "Requirement already satisfied: jupyter-events>=0.6.0 in /usr/local/lib/python3.9/site-packages (from jupyter-server<3,>=2.4.0->notebook>=4.4.1->widgetsnbextension~=3.6.6->ipywidgets<8.0.0,>=7.5.1->rich[jupyter]~=13.1.0->dagshub) (0.7.0)\n",
      "Requirement already satisfied: websocket-client in /usr/local/lib/python3.9/site-packages (from jupyter-server<3,>=2.4.0->notebook>=4.4.1->widgetsnbextension~=3.6.6->ipywidgets<8.0.0,>=7.5.1->rich[jupyter]~=13.1.0->dagshub) (1.6.4)\n",
      "Requirement already satisfied: terminado>=0.8.3 in /usr/local/lib/python3.9/site-packages (from jupyter-server<3,>=2.4.0->notebook>=4.4.1->widgetsnbextension~=3.6.6->ipywidgets<8.0.0,>=7.5.1->rich[jupyter]~=13.1.0->dagshub) (0.17.1)\n",
      "Requirement already satisfied: pyzmq>=24 in /Users/violeta/Library/Python/3.9/lib/python/site-packages (from jupyter-server<3,>=2.4.0->notebook>=4.4.1->widgetsnbextension~=3.6.6->ipywidgets<8.0.0,>=7.5.1->rich[jupyter]~=13.1.0->dagshub) (24.0.1)\n",
      "Requirement already satisfied: jupyter-client>=7.4.4 in /usr/local/lib/python3.9/site-packages (from jupyter-server<3,>=2.4.0->notebook>=4.4.1->widgetsnbextension~=3.6.6->ipywidgets<8.0.0,>=7.5.1->rich[jupyter]~=13.1.0->dagshub) (8.4.0)\n",
      "Requirement already satisfied: importlib-metadata>=4.8.3 in /usr/local/lib/python3.9/site-packages (from jupyterlab<5,>=4.0.2->notebook>=4.4.1->widgetsnbextension~=3.6.6->ipywidgets<8.0.0,>=7.5.1->rich[jupyter]~=13.1.0->dagshub) (6.8.0)\n",
      "Requirement already satisfied: ipykernel in /Users/violeta/Library/Python/3.9/lib/python/site-packages (from jupyterlab<5,>=4.0.2->notebook>=4.4.1->widgetsnbextension~=3.6.6->ipywidgets<8.0.0,>=7.5.1->rich[jupyter]~=13.1.0->dagshub) (6.16.0)\n",
      "Requirement already satisfied: tomli in /usr/local/lib/python3.9/site-packages (from jupyterlab<5,>=4.0.2->notebook>=4.4.1->widgetsnbextension~=3.6.6->ipywidgets<8.0.0,>=7.5.1->rich[jupyter]~=13.1.0->dagshub) (1.2.2)\n",
      "Requirement already satisfied: async-lru>=1.0.0 in /usr/local/lib/python3.9/site-packages (from jupyterlab<5,>=4.0.2->notebook>=4.4.1->widgetsnbextension~=3.6.6->ipywidgets<8.0.0,>=7.5.1->rich[jupyter]~=13.1.0->dagshub) (2.0.4)\n",
      "Requirement already satisfied: jupyter-lsp>=2.0.0 in /usr/local/lib/python3.9/site-packages (from jupyterlab<5,>=4.0.2->notebook>=4.4.1->widgetsnbextension~=3.6.6->ipywidgets<8.0.0,>=7.5.1->rich[jupyter]~=13.1.0->dagshub) (2.2.0)\n",
      "Requirement already satisfied: json5>=0.9.0 in /usr/local/lib/python3.9/site-packages (from jupyterlab-server<3,>=2.22.1->notebook>=4.4.1->widgetsnbextension~=3.6.6->ipywidgets<8.0.0,>=7.5.1->rich[jupyter]~=13.1.0->dagshub) (0.9.14)\n",
      "Requirement already satisfied: jsonschema>=4.18.0 in /usr/local/lib/python3.9/site-packages (from jupyterlab-server<3,>=2.22.1->notebook>=4.4.1->widgetsnbextension~=3.6.6->ipywidgets<8.0.0,>=7.5.1->rich[jupyter]~=13.1.0->dagshub) (4.19.1)\n",
      "Requirement already satisfied: babel>=2.10 in /usr/local/lib/python3.9/site-packages (from jupyterlab-server<3,>=2.22.1->notebook>=4.4.1->widgetsnbextension~=3.6.6->ipywidgets<8.0.0,>=7.5.1->rich[jupyter]~=13.1.0->dagshub) (2.13.0)\n",
      "Requirement already satisfied: zipp>=0.5 in /usr/local/lib/python3.9/site-packages (from importlib-metadata>=4.8.3->jupyterlab<5,>=4.0.2->notebook>=4.4.1->widgetsnbextension~=3.6.6->ipywidgets<8.0.0,>=7.5.1->rich[jupyter]~=13.1.0->dagshub) (3.17.0)\n",
      "Requirement already satisfied: MarkupSafe>=2.0 in /usr/local/lib/python3.9/site-packages (from jinja2->jupyter-server<3,>=2.4.0->notebook>=4.4.1->widgetsnbextension~=3.6.6->ipywidgets<8.0.0,>=7.5.1->rich[jupyter]~=13.1.0->dagshub) (2.1.1)\n",
      "Requirement already satisfied: jsonschema-specifications>=2023.03.6 in /usr/local/lib/python3.9/site-packages (from jsonschema>=4.18.0->jupyterlab-server<3,>=2.22.1->notebook>=4.4.1->widgetsnbextension~=3.6.6->ipywidgets<8.0.0,>=7.5.1->rich[jupyter]~=13.1.0->dagshub) (2023.7.1)\n",
      "Requirement already satisfied: referencing>=0.28.4 in /usr/local/lib/python3.9/site-packages (from jsonschema>=4.18.0->jupyterlab-server<3,>=2.22.1->notebook>=4.4.1->widgetsnbextension~=3.6.6->ipywidgets<8.0.0,>=7.5.1->rich[jupyter]~=13.1.0->dagshub) (0.30.2)\n",
      "Requirement already satisfied: rpds-py>=0.7.1 in /usr/local/lib/python3.9/site-packages (from jsonschema>=4.18.0->jupyterlab-server<3,>=2.22.1->notebook>=4.4.1->widgetsnbextension~=3.6.6->ipywidgets<8.0.0,>=7.5.1->rich[jupyter]~=13.1.0->dagshub) (0.10.6)\n",
      "Requirement already satisfied: attrs>=22.2.0 in /usr/local/lib/python3.9/site-packages (from jsonschema>=4.18.0->jupyterlab-server<3,>=2.22.1->notebook>=4.4.1->widgetsnbextension~=3.6.6->ipywidgets<8.0.0,>=7.5.1->rich[jupyter]~=13.1.0->dagshub) (23.1.0)\n",
      "Requirement already satisfied: platformdirs>=2.5 in /usr/local/lib/python3.9/site-packages (from jupyter-core!=5.0.*,>=4.12->jupyter-server<3,>=2.4.0->notebook>=4.4.1->widgetsnbextension~=3.6.6->ipywidgets<8.0.0,>=7.5.1->rich[jupyter]~=13.1.0->dagshub) (3.11.0)\n",
      "Requirement already satisfied: rfc3986-validator>=0.1.1 in /usr/local/lib/python3.9/site-packages (from jupyter-events>=0.6.0->jupyter-server<3,>=2.4.0->notebook>=4.4.1->widgetsnbextension~=3.6.6->ipywidgets<8.0.0,>=7.5.1->rich[jupyter]~=13.1.0->dagshub) (0.1.1)\n",
      "Requirement already satisfied: rfc3339-validator in /usr/local/lib/python3.9/site-packages (from jupyter-events>=0.6.0->jupyter-server<3,>=2.4.0->notebook>=4.4.1->widgetsnbextension~=3.6.6->ipywidgets<8.0.0,>=7.5.1->rich[jupyter]~=13.1.0->dagshub) (0.1.4)\n",
      "Requirement already satisfied: python-json-logger>=2.0.4 in /usr/local/lib/python3.9/site-packages (from jupyter-events>=0.6.0->jupyter-server<3,>=2.4.0->notebook>=4.4.1->widgetsnbextension~=3.6.6->ipywidgets<8.0.0,>=7.5.1->rich[jupyter]~=13.1.0->dagshub) (2.0.7)\n",
      "Requirement already satisfied: pandocfilters>=1.4.1 in /usr/local/lib/python3.9/site-packages (from nbconvert>=6.4.4->jupyter-server<3,>=2.4.0->notebook>=4.4.1->widgetsnbextension~=3.6.6->ipywidgets<8.0.0,>=7.5.1->rich[jupyter]~=13.1.0->dagshub) (1.5.0)\n",
      "Requirement already satisfied: bleach!=5.0.0 in /usr/local/lib/python3.9/site-packages (from nbconvert>=6.4.4->jupyter-server<3,>=2.4.0->notebook>=4.4.1->widgetsnbextension~=3.6.6->ipywidgets<8.0.0,>=7.5.1->rich[jupyter]~=13.1.0->dagshub) (6.1.0)\n",
      "Requirement already satisfied: mistune<4,>=2.0.3 in /usr/local/lib/python3.9/site-packages (from nbconvert>=6.4.4->jupyter-server<3,>=2.4.0->notebook>=4.4.1->widgetsnbextension~=3.6.6->ipywidgets<8.0.0,>=7.5.1->rich[jupyter]~=13.1.0->dagshub) (3.0.2)\n",
      "Requirement already satisfied: jupyterlab-pygments in /usr/local/lib/python3.9/site-packages (from nbconvert>=6.4.4->jupyter-server<3,>=2.4.0->notebook>=4.4.1->widgetsnbextension~=3.6.6->ipywidgets<8.0.0,>=7.5.1->rich[jupyter]~=13.1.0->dagshub) (0.2.2)\n",
      "Requirement already satisfied: tinycss2 in /usr/local/lib/python3.9/site-packages (from nbconvert>=6.4.4->jupyter-server<3,>=2.4.0->notebook>=4.4.1->widgetsnbextension~=3.6.6->ipywidgets<8.0.0,>=7.5.1->rich[jupyter]~=13.1.0->dagshub) (1.2.1)\n",
      "Requirement already satisfied: beautifulsoup4 in /usr/local/lib/python3.9/site-packages (from nbconvert>=6.4.4->jupyter-server<3,>=2.4.0->notebook>=4.4.1->widgetsnbextension~=3.6.6->ipywidgets<8.0.0,>=7.5.1->rich[jupyter]~=13.1.0->dagshub) (4.12.2)\n",
      "Requirement already satisfied: defusedxml in /usr/local/lib/python3.9/site-packages (from nbconvert>=6.4.4->jupyter-server<3,>=2.4.0->notebook>=4.4.1->widgetsnbextension~=3.6.6->ipywidgets<8.0.0,>=7.5.1->rich[jupyter]~=13.1.0->dagshub) (0.7.1)\n",
      "Requirement already satisfied: nbclient>=0.5.0 in /usr/local/lib/python3.9/site-packages (from nbconvert>=6.4.4->jupyter-server<3,>=2.4.0->notebook>=4.4.1->widgetsnbextension~=3.6.6->ipywidgets<8.0.0,>=7.5.1->rich[jupyter]~=13.1.0->dagshub) (0.8.0)\n",
      "Requirement already satisfied: fastjsonschema in /usr/local/lib/python3.9/site-packages (from nbformat>=5.3.0->jupyter-server<3,>=2.4.0->notebook>=4.4.1->widgetsnbextension~=3.6.6->ipywidgets<8.0.0,>=7.5.1->rich[jupyter]~=13.1.0->dagshub) (2.18.1)\n",
      "Requirement already satisfied: argon2-cffi-bindings in /usr/local/lib/python3.9/site-packages (from argon2-cffi->jupyter-server<3,>=2.4.0->notebook>=4.4.1->widgetsnbextension~=3.6.6->ipywidgets<8.0.0,>=7.5.1->rich[jupyter]~=13.1.0->dagshub) (21.2.0)\n",
      "Requirement already satisfied: psutil in /Users/violeta/Library/Python/3.9/lib/python/site-packages (from ipykernel->jupyterlab<5,>=4.0.2->notebook>=4.4.1->widgetsnbextension~=3.6.6->ipywidgets<8.0.0,>=7.5.1->rich[jupyter]~=13.1.0->dagshub) (5.9.2)\n",
      "Requirement already satisfied: debugpy>=1.0 in /Users/violeta/Library/Python/3.9/lib/python/site-packages (from ipykernel->jupyterlab<5,>=4.0.2->notebook>=4.4.1->widgetsnbextension~=3.6.6->ipywidgets<8.0.0,>=7.5.1->rich[jupyter]~=13.1.0->dagshub) (1.6.3)\n",
      "Requirement already satisfied: nest-asyncio in /Users/violeta/Library/Python/3.9/lib/python/site-packages (from ipykernel->jupyterlab<5,>=4.0.2->notebook>=4.4.1->widgetsnbextension~=3.6.6->ipywidgets<8.0.0,>=7.5.1->rich[jupyter]~=13.1.0->dagshub) (1.5.6)\n",
      "Requirement already satisfied: webencodings in /usr/local/lib/python3.9/site-packages (from bleach!=5.0.0->nbconvert>=6.4.4->jupyter-server<3,>=2.4.0->notebook>=4.4.1->widgetsnbextension~=3.6.6->ipywidgets<8.0.0,>=7.5.1->rich[jupyter]~=13.1.0->dagshub) (0.5.1)\n",
      "Requirement already satisfied: webcolors>=1.11 in /usr/local/lib/python3.9/site-packages (from jsonschema>=4.18.0->jupyterlab-server<3,>=2.22.1->notebook>=4.4.1->widgetsnbextension~=3.6.6->ipywidgets<8.0.0,>=7.5.1->rich[jupyter]~=13.1.0->dagshub) (1.13)\n",
      "Requirement already satisfied: jsonpointer>1.13 in /usr/local/lib/python3.9/site-packages (from jsonschema>=4.18.0->jupyterlab-server<3,>=2.22.1->notebook>=4.4.1->widgetsnbextension~=3.6.6->ipywidgets<8.0.0,>=7.5.1->rich[jupyter]~=13.1.0->dagshub) (2.4)\n",
      "Requirement already satisfied: fqdn in /usr/local/lib/python3.9/site-packages (from jsonschema>=4.18.0->jupyterlab-server<3,>=2.22.1->notebook>=4.4.1->widgetsnbextension~=3.6.6->ipywidgets<8.0.0,>=7.5.1->rich[jupyter]~=13.1.0->dagshub) (1.5.1)\n",
      "Requirement already satisfied: isoduration in /usr/local/lib/python3.9/site-packages (from jsonschema>=4.18.0->jupyterlab-server<3,>=2.22.1->notebook>=4.4.1->widgetsnbextension~=3.6.6->ipywidgets<8.0.0,>=7.5.1->rich[jupyter]~=13.1.0->dagshub) (20.11.0)\n",
      "Requirement already satisfied: uri-template in /usr/local/lib/python3.9/site-packages (from jsonschema>=4.18.0->jupyterlab-server<3,>=2.22.1->notebook>=4.4.1->widgetsnbextension~=3.6.6->ipywidgets<8.0.0,>=7.5.1->rich[jupyter]~=13.1.0->dagshub) (1.3.0)\n",
      "Requirement already satisfied: cffi>=1.0.1 in /usr/local/lib/python3.9/site-packages (from argon2-cffi-bindings->argon2-cffi->jupyter-server<3,>=2.4.0->notebook>=4.4.1->widgetsnbextension~=3.6.6->ipywidgets<8.0.0,>=7.5.1->rich[jupyter]~=13.1.0->dagshub) (1.16.0)\n",
      "Requirement already satisfied: soupsieve>1.2 in /usr/local/lib/python3.9/site-packages (from beautifulsoup4->nbconvert>=6.4.4->jupyter-server<3,>=2.4.0->notebook>=4.4.1->widgetsnbextension~=3.6.6->ipywidgets<8.0.0,>=7.5.1->rich[jupyter]~=13.1.0->dagshub) (2.5)\n",
      "Requirement already satisfied: pycparser in /usr/local/lib/python3.9/site-packages (from cffi>=1.0.1->argon2-cffi-bindings->argon2-cffi->jupyter-server<3,>=2.4.0->notebook>=4.4.1->widgetsnbextension~=3.6.6->ipywidgets<8.0.0,>=7.5.1->rich[jupyter]~=13.1.0->dagshub) (2.21)\n",
      "Requirement already satisfied: arrow>=0.15.0 in /usr/local/lib/python3.9/site-packages (from isoduration->jsonschema>=4.18.0->jupyterlab-server<3,>=2.22.1->notebook>=4.4.1->widgetsnbextension~=3.6.6->ipywidgets<8.0.0,>=7.5.1->rich[jupyter]~=13.1.0->dagshub) (1.3.0)\n",
      "Requirement already satisfied: types-python-dateutil>=2.8.10 in /usr/local/lib/python3.9/site-packages (from arrow>=0.15.0->isoduration->jsonschema>=4.18.0->jupyterlab-server<3,>=2.22.1->notebook>=4.4.1->widgetsnbextension~=3.6.6->ipywidgets<8.0.0,>=7.5.1->rich[jupyter]~=13.1.0->dagshub) (2.8.19.14)\n",
      "\u001b[33mWARNING: You are using pip version 21.3.1; however, version 23.2.1 is available.\n",
      "You should consider upgrading via the '/usr/local/opt/python@3.9/bin/python3.9 -m pip install --upgrade pip' command.\u001b[0m\n",
      "Note: you may need to restart the kernel to use updated packages.\n"
     ]
    }
   ],
   "source": [
    "pip install dagshub"
   ]
  },
  {
   "cell_type": "code",
   "execution_count": 87,
   "id": "e2d7e3d5",
   "metadata": {},
   "outputs": [
    {
     "name": "stdout",
     "output_type": "stream",
     "text": [
      "\u001b[33mDEPRECATION: Configuring installation scheme with distutils config files is deprecated and will no longer work in the near future. If you are using a Homebrew or Linuxbrew Python, please see discussion at https://github.com/Homebrew/homebrew-core/issues/76621\u001b[0m\n",
      "Requirement already satisfied: great-expectations in /usr/local/lib/python3.9/site-packages (0.17.22)\n",
      "Requirement already satisfied: scipy>=1.6.0 in /usr/local/lib/python3.9/site-packages (from great-expectations) (1.9.3)\n",
      "Requirement already satisfied: Ipython>=7.16.3 in /Users/violeta/Library/Python/3.9/lib/python/site-packages (from great-expectations) (8.5.0)\n",
      "Requirement already satisfied: Click!=8.1.4,>=7.1.2 in /usr/local/lib/python3.9/site-packages (from great-expectations) (8.1.7)\n",
      "Requirement already satisfied: urllib3>=1.26 in /usr/local/lib/python3.9/site-packages (from great-expectations) (1.26.17)\n",
      "Requirement already satisfied: pyparsing>=2.4 in /usr/local/lib/python3.9/site-packages (from great-expectations) (2.4.7)\n",
      "Requirement already satisfied: pytz>=2021.3 in /usr/local/lib/python3.9/site-packages (from great-expectations) (2023.3.post1)\n",
      "Requirement already satisfied: notebook>=6.4.10 in /usr/local/lib/python3.9/site-packages (from great-expectations) (7.0.5)\n",
      "Requirement already satisfied: packaging in /usr/local/lib/python3.9/site-packages (from great-expectations) (21.3)\n",
      "Requirement already satisfied: jsonschema>=2.5.1 in /usr/local/lib/python3.9/site-packages (from great-expectations) (4.19.1)\n",
      "Requirement already satisfied: cryptography>=3.2 in /usr/local/lib/python3.9/site-packages (from great-expectations) (41.0.4)\n",
      "Requirement already satisfied: ruamel.yaml<0.17.18,>=0.16 in /usr/local/lib/python3.9/site-packages (from great-expectations) (0.17.17)\n",
      "Requirement already satisfied: pydantic>=1.9.2 in /usr/local/lib/python3.9/site-packages (from great-expectations) (2.4.2)\n",
      "Requirement already satisfied: numpy>=1.21.6 in /usr/local/lib/python3.9/site-packages (from great-expectations) (1.22.4)\n",
      "Requirement already satisfied: requests>=2.20 in /usr/local/lib/python3.9/site-packages (from great-expectations) (2.31.0)\n",
      "Requirement already satisfied: mistune>=0.8.4 in /usr/local/lib/python3.9/site-packages (from great-expectations) (3.0.2)\n",
      "Requirement already satisfied: nbformat>=5.0 in /usr/local/lib/python3.9/site-packages (from great-expectations) (5.9.2)\n",
      "Requirement already satisfied: altair<5.0.0,>=4.2.1 in /usr/local/lib/python3.9/site-packages (from great-expectations) (4.2.2)\n",
      "Requirement already satisfied: tqdm>=4.59.0 in /usr/local/lib/python3.9/site-packages (from great-expectations) (4.66.1)\n",
      "Requirement already satisfied: python-dateutil>=2.8.1 in /Users/violeta/Library/Python/3.9/lib/python/site-packages (from great-expectations) (2.8.2)\n",
      "Requirement already satisfied: ipywidgets>=7.5.1 in /usr/local/lib/python3.9/site-packages (from great-expectations) (7.8.1)\n",
      "Requirement already satisfied: marshmallow<4.0.0,>=3.7.1 in /usr/local/lib/python3.9/site-packages (from great-expectations) (3.20.1)\n",
      "Requirement already satisfied: jsonpatch>=1.22 in /usr/local/lib/python3.9/site-packages (from great-expectations) (1.33)\n",
      "Requirement already satisfied: colorama>=0.4.3 in /usr/local/lib/python3.9/site-packages (from great-expectations) (0.4.6)\n",
      "Requirement already satisfied: makefun<2,>=1.7.0 in /usr/local/lib/python3.9/site-packages (from great-expectations) (1.15.1)\n",
      "Requirement already satisfied: pandas>=1.1.3 in /usr/local/lib/python3.9/site-packages (from great-expectations) (1.5.3)\n",
      "Requirement already satisfied: tzlocal>=1.2 in /usr/local/lib/python3.9/site-packages (from great-expectations) (2.1)\n",
      "Requirement already satisfied: typing-extensions>=3.10.0.0 in /usr/local/lib/python3.9/site-packages (from great-expectations) (4.8.0)\n",
      "Requirement already satisfied: jinja2>=2.10 in /usr/local/lib/python3.9/site-packages (from great-expectations) (3.1.2)\n",
      "Requirement already satisfied: entrypoints in /Users/violeta/Library/Python/3.9/lib/python/site-packages (from altair<5.0.0,>=4.2.1->great-expectations) (0.4)\n",
      "Requirement already satisfied: toolz in /usr/local/lib/python3.9/site-packages (from altair<5.0.0,>=4.2.1->great-expectations) (0.12.0)\n",
      "Requirement already satisfied: cffi>=1.12 in /usr/local/lib/python3.9/site-packages (from cryptography>=3.2->great-expectations) (1.16.0)\n",
      "Requirement already satisfied: prompt-toolkit<3.1.0,>3.0.1 in /Users/violeta/Library/Python/3.9/lib/python/site-packages (from Ipython>=7.16.3->great-expectations) (3.0.31)\n",
      "Requirement already satisfied: traitlets>=5 in /usr/local/lib/python3.9/site-packages (from Ipython>=7.16.3->great-expectations) (5.11.2)\n",
      "Requirement already satisfied: decorator in /usr/local/lib/python3.9/site-packages (from Ipython>=7.16.3->great-expectations) (4.4.2)\n",
      "Requirement already satisfied: backcall in /Users/violeta/Library/Python/3.9/lib/python/site-packages (from Ipython>=7.16.3->great-expectations) (0.2.0)\n",
      "Requirement already satisfied: pygments>=2.4.0 in /Users/violeta/Library/Python/3.9/lib/python/site-packages (from Ipython>=7.16.3->great-expectations) (2.13.0)\n",
      "Requirement already satisfied: jedi>=0.16 in /Users/violeta/Library/Python/3.9/lib/python/site-packages (from Ipython>=7.16.3->great-expectations) (0.18.1)\n",
      "Requirement already satisfied: stack-data in /Users/violeta/Library/Python/3.9/lib/python/site-packages (from Ipython>=7.16.3->great-expectations) (0.5.1)\n",
      "Requirement already satisfied: pexpect>4.3 in /Users/violeta/Library/Python/3.9/lib/python/site-packages (from Ipython>=7.16.3->great-expectations) (4.8.0)\n",
      "Requirement already satisfied: appnope in /Users/violeta/Library/Python/3.9/lib/python/site-packages (from Ipython>=7.16.3->great-expectations) (0.1.3)\n",
      "Requirement already satisfied: matplotlib-inline in /Users/violeta/Library/Python/3.9/lib/python/site-packages (from Ipython>=7.16.3->great-expectations) (0.1.6)\n",
      "Requirement already satisfied: pickleshare in /Users/violeta/Library/Python/3.9/lib/python/site-packages (from Ipython>=7.16.3->great-expectations) (0.7.5)\n",
      "Requirement already satisfied: ipython-genutils~=0.2.0 in /usr/local/lib/python3.9/site-packages (from ipywidgets>=7.5.1->great-expectations) (0.2.0)\n",
      "Requirement already satisfied: widgetsnbextension~=3.6.6 in /usr/local/lib/python3.9/site-packages (from ipywidgets>=7.5.1->great-expectations) (3.6.6)\n",
      "Requirement already satisfied: comm>=0.1.3 in /usr/local/lib/python3.9/site-packages (from ipywidgets>=7.5.1->great-expectations) (0.1.4)\n",
      "Requirement already satisfied: jupyterlab-widgets<3,>=1.0.0 in /usr/local/lib/python3.9/site-packages (from ipywidgets>=7.5.1->great-expectations) (1.1.7)\n",
      "Requirement already satisfied: MarkupSafe>=2.0 in /usr/local/lib/python3.9/site-packages (from jinja2>=2.10->great-expectations) (2.1.1)\n",
      "Requirement already satisfied: jsonpointer>=1.9 in /usr/local/lib/python3.9/site-packages (from jsonpatch>=1.22->great-expectations) (2.4)\n",
      "Requirement already satisfied: rpds-py>=0.7.1 in /usr/local/lib/python3.9/site-packages (from jsonschema>=2.5.1->great-expectations) (0.10.6)\n",
      "Requirement already satisfied: attrs>=22.2.0 in /usr/local/lib/python3.9/site-packages (from jsonschema>=2.5.1->great-expectations) (23.1.0)\n",
      "Requirement already satisfied: jsonschema-specifications>=2023.03.6 in /usr/local/lib/python3.9/site-packages (from jsonschema>=2.5.1->great-expectations) (2023.7.1)\n",
      "Requirement already satisfied: referencing>=0.28.4 in /usr/local/lib/python3.9/site-packages (from jsonschema>=2.5.1->great-expectations) (0.30.2)\n",
      "Requirement already satisfied: jupyter-core in /usr/local/lib/python3.9/site-packages (from nbformat>=5.0->great-expectations) (5.4.0)\n",
      "Requirement already satisfied: fastjsonschema in /usr/local/lib/python3.9/site-packages (from nbformat>=5.0->great-expectations) (2.18.1)\n",
      "Requirement already satisfied: notebook-shim<0.3,>=0.2 in /usr/local/lib/python3.9/site-packages (from notebook>=6.4.10->great-expectations) (0.2.3)\n",
      "Requirement already satisfied: jupyterlab-server<3,>=2.22.1 in /usr/local/lib/python3.9/site-packages (from notebook>=6.4.10->great-expectations) (2.25.0)\n",
      "Requirement already satisfied: jupyter-server<3,>=2.4.0 in /usr/local/lib/python3.9/site-packages (from notebook>=6.4.10->great-expectations) (2.7.3)\n",
      "Requirement already satisfied: tornado>=6.2.0 in /Users/violeta/Library/Python/3.9/lib/python/site-packages (from notebook>=6.4.10->great-expectations) (6.2)\n",
      "Requirement already satisfied: jupyterlab<5,>=4.0.2 in /usr/local/lib/python3.9/site-packages (from notebook>=6.4.10->great-expectations) (4.0.7)\n",
      "Requirement already satisfied: pydantic-core==2.10.1 in /usr/local/lib/python3.9/site-packages (from pydantic>=1.9.2->great-expectations) (2.10.1)\n",
      "Requirement already satisfied: annotated-types>=0.4.0 in /usr/local/lib/python3.9/site-packages (from pydantic>=1.9.2->great-expectations) (0.6.0)\n",
      "Requirement already satisfied: six>=1.5 in /usr/local/lib/python3.9/site-packages (from python-dateutil>=2.8.1->great-expectations) (1.15.0)\n",
      "Requirement already satisfied: idna<4,>=2.5 in /usr/local/lib/python3.9/site-packages (from requests>=2.20->great-expectations) (2.10)\n",
      "Requirement already satisfied: charset-normalizer<4,>=2 in /usr/local/lib/python3.9/site-packages (from requests>=2.20->great-expectations) (3.3.0)\n",
      "Requirement already satisfied: certifi>=2017.4.17 in /usr/local/lib/python3.9/site-packages (from requests>=2.20->great-expectations) (2020.12.5)\n",
      "Requirement already satisfied: ruamel.yaml.clib>=0.1.2 in /usr/local/lib/python3.9/site-packages (from ruamel.yaml<0.17.18,>=0.16->great-expectations) (0.2.8)\n",
      "Requirement already satisfied: pycparser in /usr/local/lib/python3.9/site-packages (from cffi>=1.12->cryptography>=3.2->great-expectations) (2.21)\n",
      "Requirement already satisfied: parso<0.9.0,>=0.8.0 in /Users/violeta/Library/Python/3.9/lib/python/site-packages (from jedi>=0.16->Ipython>=7.16.3->great-expectations) (0.8.3)\n",
      "Requirement already satisfied: pyzmq>=24 in /Users/violeta/Library/Python/3.9/lib/python/site-packages (from jupyter-server<3,>=2.4.0->notebook>=6.4.10->great-expectations) (24.0.1)\n",
      "Requirement already satisfied: jupyter-server-terminals in /usr/local/lib/python3.9/site-packages (from jupyter-server<3,>=2.4.0->notebook>=6.4.10->great-expectations) (0.4.4)\n",
      "Requirement already satisfied: terminado>=0.8.3 in /usr/local/lib/python3.9/site-packages (from jupyter-server<3,>=2.4.0->notebook>=6.4.10->great-expectations) (0.17.1)\n",
      "Requirement already satisfied: websocket-client in /usr/local/lib/python3.9/site-packages (from jupyter-server<3,>=2.4.0->notebook>=6.4.10->great-expectations) (1.6.4)\n",
      "Requirement already satisfied: jupyter-events>=0.6.0 in /usr/local/lib/python3.9/site-packages (from jupyter-server<3,>=2.4.0->notebook>=6.4.10->great-expectations) (0.7.0)\n",
      "Requirement already satisfied: nbconvert>=6.4.4 in /usr/local/lib/python3.9/site-packages (from jupyter-server<3,>=2.4.0->notebook>=6.4.10->great-expectations) (7.9.2)\n",
      "Requirement already satisfied: overrides in /usr/local/lib/python3.9/site-packages (from jupyter-server<3,>=2.4.0->notebook>=6.4.10->great-expectations) (7.4.0)\n",
      "Requirement already satisfied: argon2-cffi in /usr/local/lib/python3.9/site-packages (from jupyter-server<3,>=2.4.0->notebook>=6.4.10->great-expectations) (23.1.0)\n",
      "Requirement already satisfied: send2trash>=1.8.2 in /usr/local/lib/python3.9/site-packages (from jupyter-server<3,>=2.4.0->notebook>=6.4.10->great-expectations) (1.8.2)\n",
      "Requirement already satisfied: anyio>=3.1.0 in /usr/local/lib/python3.9/site-packages (from jupyter-server<3,>=2.4.0->notebook>=6.4.10->great-expectations) (4.0.0)\n",
      "Requirement already satisfied: prometheus-client in /usr/local/lib/python3.9/site-packages (from jupyter-server<3,>=2.4.0->notebook>=6.4.10->great-expectations) (0.17.1)\n",
      "Requirement already satisfied: jupyter-client>=7.4.4 in /usr/local/lib/python3.9/site-packages (from jupyter-server<3,>=2.4.0->notebook>=6.4.10->great-expectations) (8.4.0)\n",
      "Requirement already satisfied: platformdirs>=2.5 in /usr/local/lib/python3.9/site-packages (from jupyter-core->nbformat>=5.0->great-expectations) (3.11.0)\n",
      "Requirement already satisfied: jupyter-lsp>=2.0.0 in /usr/local/lib/python3.9/site-packages (from jupyterlab<5,>=4.0.2->notebook>=6.4.10->great-expectations) (2.2.0)\n",
      "Requirement already satisfied: importlib-metadata>=4.8.3 in /usr/local/lib/python3.9/site-packages (from jupyterlab<5,>=4.0.2->notebook>=6.4.10->great-expectations) (6.8.0)\n",
      "Requirement already satisfied: async-lru>=1.0.0 in /usr/local/lib/python3.9/site-packages (from jupyterlab<5,>=4.0.2->notebook>=6.4.10->great-expectations) (2.0.4)\n",
      "Requirement already satisfied: tomli in /usr/local/lib/python3.9/site-packages (from jupyterlab<5,>=4.0.2->notebook>=6.4.10->great-expectations) (1.2.2)\n",
      "Requirement already satisfied: ipykernel in /Users/violeta/Library/Python/3.9/lib/python/site-packages (from jupyterlab<5,>=4.0.2->notebook>=6.4.10->great-expectations) (6.16.0)\n",
      "Requirement already satisfied: json5>=0.9.0 in /usr/local/lib/python3.9/site-packages (from jupyterlab-server<3,>=2.22.1->notebook>=6.4.10->great-expectations) (0.9.14)\n",
      "Requirement already satisfied: babel>=2.10 in /usr/local/lib/python3.9/site-packages (from jupyterlab-server<3,>=2.22.1->notebook>=6.4.10->great-expectations) (2.13.0)\n",
      "Requirement already satisfied: ptyprocess>=0.5 in /Users/violeta/Library/Python/3.9/lib/python/site-packages (from pexpect>4.3->Ipython>=7.16.3->great-expectations) (0.7.0)\n",
      "Requirement already satisfied: wcwidth in /Users/violeta/Library/Python/3.9/lib/python/site-packages (from prompt-toolkit<3.1.0,>3.0.1->Ipython>=7.16.3->great-expectations) (0.2.5)\n",
      "Requirement already satisfied: executing in /Users/violeta/Library/Python/3.9/lib/python/site-packages (from stack-data->Ipython>=7.16.3->great-expectations) (1.1.1)\n",
      "Requirement already satisfied: pure-eval in /Users/violeta/Library/Python/3.9/lib/python/site-packages (from stack-data->Ipython>=7.16.3->great-expectations) (0.2.2)\n",
      "Requirement already satisfied: asttokens in /Users/violeta/Library/Python/3.9/lib/python/site-packages (from stack-data->Ipython>=7.16.3->great-expectations) (2.0.8)\n",
      "Requirement already satisfied: exceptiongroup>=1.0.2 in /usr/local/lib/python3.9/site-packages (from anyio>=3.1.0->jupyter-server<3,>=2.4.0->notebook>=6.4.10->great-expectations) (1.1.3)\n",
      "Requirement already satisfied: sniffio>=1.1 in /usr/local/lib/python3.9/site-packages (from anyio>=3.1.0->jupyter-server<3,>=2.4.0->notebook>=6.4.10->great-expectations) (1.3.0)\n",
      "Requirement already satisfied: zipp>=0.5 in /usr/local/lib/python3.9/site-packages (from importlib-metadata>=4.8.3->jupyterlab<5,>=4.0.2->notebook>=6.4.10->great-expectations) (3.17.0)\n",
      "Requirement already satisfied: python-json-logger>=2.0.4 in /usr/local/lib/python3.9/site-packages (from jupyter-events>=0.6.0->jupyter-server<3,>=2.4.0->notebook>=6.4.10->great-expectations) (2.0.7)\n",
      "Requirement already satisfied: rfc3986-validator>=0.1.1 in /usr/local/lib/python3.9/site-packages (from jupyter-events>=0.6.0->jupyter-server<3,>=2.4.0->notebook>=6.4.10->great-expectations) (0.1.1)\n",
      "Requirement already satisfied: rfc3339-validator in /usr/local/lib/python3.9/site-packages (from jupyter-events>=0.6.0->jupyter-server<3,>=2.4.0->notebook>=6.4.10->great-expectations) (0.1.4)\n",
      "Requirement already satisfied: pyyaml>=5.3 in /usr/local/lib/python3.9/site-packages (from jupyter-events>=0.6.0->jupyter-server<3,>=2.4.0->notebook>=6.4.10->great-expectations) (5.4.1)\n",
      "Requirement already satisfied: bleach!=5.0.0 in /usr/local/lib/python3.9/site-packages (from nbconvert>=6.4.4->jupyter-server<3,>=2.4.0->notebook>=6.4.10->great-expectations) (6.1.0)\n",
      "Requirement already satisfied: tinycss2 in /usr/local/lib/python3.9/site-packages (from nbconvert>=6.4.4->jupyter-server<3,>=2.4.0->notebook>=6.4.10->great-expectations) (1.2.1)\n",
      "Requirement already satisfied: pandocfilters>=1.4.1 in /usr/local/lib/python3.9/site-packages (from nbconvert>=6.4.4->jupyter-server<3,>=2.4.0->notebook>=6.4.10->great-expectations) (1.5.0)\n",
      "Requirement already satisfied: beautifulsoup4 in /usr/local/lib/python3.9/site-packages (from nbconvert>=6.4.4->jupyter-server<3,>=2.4.0->notebook>=6.4.10->great-expectations) (4.12.2)\n",
      "Requirement already satisfied: defusedxml in /usr/local/lib/python3.9/site-packages (from nbconvert>=6.4.4->jupyter-server<3,>=2.4.0->notebook>=6.4.10->great-expectations) (0.7.1)\n",
      "Requirement already satisfied: jupyterlab-pygments in /usr/local/lib/python3.9/site-packages (from nbconvert>=6.4.4->jupyter-server<3,>=2.4.0->notebook>=6.4.10->great-expectations) (0.2.2)\n",
      "Requirement already satisfied: nbclient>=0.5.0 in /usr/local/lib/python3.9/site-packages (from nbconvert>=6.4.4->jupyter-server<3,>=2.4.0->notebook>=6.4.10->great-expectations) (0.8.0)\n",
      "Requirement already satisfied: argon2-cffi-bindings in /usr/local/lib/python3.9/site-packages (from argon2-cffi->jupyter-server<3,>=2.4.0->notebook>=6.4.10->great-expectations) (21.2.0)\n",
      "Requirement already satisfied: nest-asyncio in /Users/violeta/Library/Python/3.9/lib/python/site-packages (from ipykernel->jupyterlab<5,>=4.0.2->notebook>=6.4.10->great-expectations) (1.5.6)\n",
      "Requirement already satisfied: debugpy>=1.0 in /Users/violeta/Library/Python/3.9/lib/python/site-packages (from ipykernel->jupyterlab<5,>=4.0.2->notebook>=6.4.10->great-expectations) (1.6.3)\n",
      "Requirement already satisfied: psutil in /Users/violeta/Library/Python/3.9/lib/python/site-packages (from ipykernel->jupyterlab<5,>=4.0.2->notebook>=6.4.10->great-expectations) (5.9.2)\n",
      "Requirement already satisfied: webencodings in /usr/local/lib/python3.9/site-packages (from bleach!=5.0.0->nbconvert>=6.4.4->jupyter-server<3,>=2.4.0->notebook>=6.4.10->great-expectations) (0.5.1)\n",
      "Requirement already satisfied: isoduration in /usr/local/lib/python3.9/site-packages (from jsonschema>=2.5.1->great-expectations) (20.11.0)\n",
      "Requirement already satisfied: fqdn in /usr/local/lib/python3.9/site-packages (from jsonschema>=2.5.1->great-expectations) (1.5.1)\n",
      "Requirement already satisfied: uri-template in /usr/local/lib/python3.9/site-packages (from jsonschema>=2.5.1->great-expectations) (1.3.0)\n",
      "Requirement already satisfied: webcolors>=1.11 in /usr/local/lib/python3.9/site-packages (from jsonschema>=2.5.1->great-expectations) (1.13)\n",
      "Requirement already satisfied: soupsieve>1.2 in /usr/local/lib/python3.9/site-packages (from beautifulsoup4->nbconvert>=6.4.4->jupyter-server<3,>=2.4.0->notebook>=6.4.10->great-expectations) (2.5)\n",
      "Requirement already satisfied: arrow>=0.15.0 in /usr/local/lib/python3.9/site-packages (from isoduration->jsonschema>=2.5.1->great-expectations) (1.3.0)\n",
      "Requirement already satisfied: types-python-dateutil>=2.8.10 in /usr/local/lib/python3.9/site-packages (from arrow>=0.15.0->isoduration->jsonschema>=2.5.1->great-expectations) (2.8.19.14)\n",
      "\u001b[33mWARNING: You are using pip version 21.3.1; however, version 23.2.1 is available.\n",
      "You should consider upgrading via the '/usr/local/opt/python@3.9/bin/python3.9 -m pip install --upgrade pip' command.\u001b[0m\n",
      "Note: you may need to restart the kernel to use updated packages.\n"
     ]
    }
   ],
   "source": [
    "pip install great-expectations"
   ]
  },
  {
   "cell_type": "code",
   "execution_count": 1,
   "id": "a7fd6aaf",
   "metadata": {
    "execution": {
     "iopub.execute_input": "2023-10-10T09:51:42.525652Z",
     "iopub.status.busy": "2023-10-10T09:51:42.524852Z",
     "iopub.status.idle": "2023-10-10T09:51:47.222348Z",
     "shell.execute_reply": "2023-10-10T09:51:47.221474Z"
    },
    "papermill": {
     "duration": 4.710587,
     "end_time": "2023-10-10T09:51:47.224430",
     "exception": false,
     "start_time": "2023-10-10T09:51:42.513843",
     "status": "completed"
    },
    "tags": []
   },
   "outputs": [
    {
     "name": "stderr",
     "output_type": "stream",
     "text": [
      "/usr/local/lib/python3.9/site-packages/pydantic/_internal/_fields.py:128: UserWarning: Field \"model_server_url\" has conflict with protected namespace \"model_\".\n",
      "\n",
      "You may be able to resolve this warning by setting `model_config['protected_namespaces'] = ()`.\n",
      "  warnings.warn(\n",
      "/usr/local/lib/python3.9/site-packages/pydantic/_internal/_config.py:317: UserWarning: Valid config keys have changed in V2:\n",
      "* 'schema_extra' has been renamed to 'json_schema_extra'\n",
      "  warnings.warn(message, UserWarning)\n"
     ]
    }
   ],
   "source": [
    "## Import all libraries needed\n",
    "import os\n",
    "import ast\n",
    "import shutil\n",
    "import urllib\n",
    "import numpy as np # linear algebra\n",
    "import pandas as pd # data processing, CSV file I/O (e.g. pd.read_csv)\n",
    "import mlflow\n",
    "import mlflow.pytorch\n",
    "import dagshub\n",
    "import great_expectations as gx\n",
    "import pandas as pd\n",
    "import torch\n",
    "import torch.nn as nn\n",
    "import torch.optim as optim\n",
    "import torch.nn.functional as F\n",
    "import torchvision.models as models\n",
    "import torchvision.datasets as datasets\n",
    "import torchvision.transforms as transforms\n",
    "import matplotlib\n",
    "import matplotlib.pyplot as plt\n",
    "\n",
    "from torchvision import transforms\n",
    "from torch.utils.data import Dataset, DataLoader, ConcatDataset\n",
    "from torchvision.io import read_image\n",
    "from torchvision.transforms.functional import to_pil_image\n",
    "from great_expectations.dataset import PandasDataset\n",
    "from tqdm import tqdm\n",
    "from typing import Tuple, Dict, Any, List\n",
    "from PIL import Image\n",
    "from typing import Tuple, List\n",
    "from matplotlib.pyplot import imshow\n",
    "\n",
    "torch.set_grad_enabled(True)\n",
    "%matplotlib inline"
   ]
  },
  {
   "cell_type": "code",
   "execution_count": 2,
   "id": "ffc7c0cb",
   "metadata": {
    "execution": {
     "iopub.execute_input": "2023-10-10T09:51:47.244751Z",
     "iopub.status.busy": "2023-10-10T09:51:47.243770Z",
     "iopub.status.idle": "2023-10-10T09:52:02.353915Z",
     "shell.execute_reply": "2023-10-10T09:52:02.352650Z"
    },
    "papermill": {
     "duration": 15.123265,
     "end_time": "2023-10-10T09:52:02.357152",
     "exception": false,
     "start_time": "2023-10-10T09:51:47.233887",
     "status": "completed"
    },
    "tags": []
   },
   "outputs": [
    {
     "data": {
      "text/html": [
       "<pre style=\"white-space:pre;overflow-x:auto;line-height:normal;font-family:Menlo,'DejaVu Sans Mono',consolas,'Courier New',monospace\">Repository initialized!\n",
       "</pre>\n"
      ],
      "text/plain": [
       "Repository initialized!\n"
      ]
     },
     "metadata": {},
     "output_type": "display_data"
    },
    {
     "data": {
      "text/plain": [
       "<Experiment: artifact_location='mlflow-artifacts:/62f4f6b488564b148a8d5dcc870cb0e6', creation_time=1696057452443, experiment_id='2', last_update_time=1696057452443, lifecycle_stage='active', name='REPORT INICIAL', tags={}>"
      ]
     },
     "execution_count": 2,
     "metadata": {},
     "output_type": "execute_result"
    }
   ],
   "source": [
    "dagshub.init(\"taed2-Food_Classification\", \"violeta51\", mlflow=True)\n",
    "\n",
    "mlflow.set_tracking_uri('https://dagshub.com/violeta51/taed2-Food_Classification.mlflow')\n",
    "mlflow.set_experiment(experiment_name=\"REPORT INICIAL\")"
   ]
  },
  {
   "cell_type": "markdown",
   "id": "b3ba4beb",
   "metadata": {
    "papermill": {
     "duration": 0.019609,
     "end_time": "2023-10-10T09:52:02.398419",
     "exception": false,
     "start_time": "2023-10-10T09:52:02.378810",
     "status": "completed"
    },
    "tags": []
   },
   "source": [
    "## **Initialization**\n",
    "\n",
    "Let's set the working enviroment."
   ]
  },
  {
   "cell_type": "code",
   "execution_count": 3,
   "id": "dfac4603",
   "metadata": {
    "execution": {
     "iopub.execute_input": "2023-10-10T09:52:03.105948Z",
     "iopub.status.busy": "2023-10-10T09:52:03.105384Z",
     "iopub.status.idle": "2023-10-10T09:52:03.124731Z",
     "shell.execute_reply": "2023-10-10T09:52:03.123945Z"
    },
    "papermill": {
     "duration": 0.709005,
     "end_time": "2023-10-10T09:52:03.127141",
     "exception": false,
     "start_time": "2023-10-10T09:52:02.418136",
     "status": "completed"
    },
    "tags": []
   },
   "outputs": [],
   "source": [
    "# set a seed for garantee the replication once we finish get the model\n",
    "\n",
    "seed = 7767\n",
    "np.random.seed(seed)\n",
    "_ = torch.manual_seed(seed)\n",
    "_ = torch.cuda.manual_seed(seed)"
   ]
  },
  {
   "cell_type": "markdown",
   "id": "e110e4af",
   "metadata": {
    "papermill": {
     "duration": 0.018966,
     "end_time": "2023-10-10T09:52:03.176642",
     "exception": false,
     "start_time": "2023-10-10T09:52:03.157676",
     "status": "completed"
    },
    "tags": []
   },
   "source": [
    "Since the model is fairly complex, training it in the GPU will save us time."
   ]
  },
  {
   "cell_type": "code",
   "execution_count": 4,
   "id": "bd4b27c9",
   "metadata": {
    "execution": {
     "iopub.execute_input": "2023-10-10T09:52:03.324006Z",
     "iopub.status.busy": "2023-10-10T09:52:03.323638Z",
     "iopub.status.idle": "2023-10-10T09:52:09.795712Z",
     "shell.execute_reply": "2023-10-10T09:52:09.794515Z"
    },
    "papermill": {
     "duration": 6.494599,
     "end_time": "2023-10-10T09:52:09.797658",
     "exception": false,
     "start_time": "2023-10-10T09:52:03.303059",
     "status": "completed"
    },
    "tags": []
   },
   "outputs": [
    {
     "data": {
      "text/plain": [
       "64"
      ]
     },
     "execution_count": 4,
     "metadata": {},
     "output_type": "execute_result"
    }
   ],
   "source": [
    "# Let's define some hyper-parameters\n",
    "\n",
    "hparams = {\n",
    "    'log_interval': 200,\n",
    "    'epochs' : 20,\n",
    "    'batch_size' : 64,\n",
    "}\n",
    "\n",
    "mlflow.log_param(\"log_interval\", hparams[\"log_interval\"])\n",
    "mlflow.log_param(\"epochs\", hparams[\"epochs\"])\n",
    "mlflow.log_param(\"batch_size\", hparams[\"batch_size\"])"
   ]
  },
  {
   "cell_type": "markdown",
   "id": "4badcb79",
   "metadata": {
    "papermill": {
     "duration": 0.010024,
     "end_time": "2023-10-10T09:52:09.817654",
     "exception": false,
     "start_time": "2023-10-10T09:52:09.807630",
     "status": "completed"
    },
    "tags": []
   },
   "source": [
    "## **Load the Data**\n",
    "Since the training data are off-line, we need to load them."
   ]
  },
  {
   "cell_type": "code",
   "execution_count": 5,
   "id": "f7f35b25",
   "metadata": {
    "execution": {
     "iopub.execute_input": "2023-10-10T09:52:10.004630Z",
     "iopub.status.busy": "2023-10-10T09:52:10.004255Z",
     "iopub.status.idle": "2023-10-10T09:52:10.011929Z",
     "shell.execute_reply": "2023-10-10T09:52:10.010972Z"
    },
    "papermill": {
     "duration": 0.066548,
     "end_time": "2023-10-10T09:52:10.013604",
     "exception": false,
     "start_time": "2023-10-10T09:52:09.947056",
     "status": "completed"
    },
    "tags": []
   },
   "outputs": [],
   "source": [
    "## img dir: directory containing the images\n",
    "## annotations file: file containing the labels\n",
    "\n",
    "## the following code is a modified version of \n",
    "## the code extracted from https://pytorch.org/tutorials/beginner/basics/data_tutorial.html \n",
    "\n",
    "class CustomImageDataset(Dataset):\n",
    "    def __init__(self, annotations_file, img_dir, transform=None, target_transform=None):\n",
    "        self.img_labels = annotations_file\n",
    "        self.img_dir = img_dir\n",
    "        self.transform = transform\n",
    "        self.target_transform = target_transform\n",
    "\n",
    "    def __len__(self): # returns the number of samples in our dataset.\n",
    "        return len(self.img_labels)\n",
    "\n",
    "    def __getitem__(self, idx):\n",
    "        img_path = os.path.join(self.img_dir, self.img_labels.iloc[idx, 0])\n",
    "        \"\"\"if len(img_path)< 6:\n",
    "            print(img_path)\"\"\"\n",
    "            \n",
    "        image = read_image(img_path)\n",
    "\n",
    "        to_pil = transforms.ToPILImage()\n",
    "        image = to_pil(image)\n",
    "        \n",
    "        width, height = image.size\n",
    "        \n",
    "        if width < 224 or height < 224:\n",
    "            scale_factor = 512 / max(width, height)\n",
    "    \n",
    "        # calculate the new dimensions\n",
    "            new_width = int(width * scale_factor)\n",
    "            new_height = int(height * scale_factor)\n",
    "\n",
    "            image = image.resize((new_height, new_width))\n",
    "        \n",
    "        label = self.img_labels.iloc[idx, 1]\n",
    "        if self.transform:\n",
    "            image = self.transform(image)\n",
    "        if self.target_transform:\n",
    "            label = self.target_transform(label)\n",
    "        \n",
    "        return image, label"
   ]
  },
  {
   "cell_type": "code",
   "execution_count": 6,
   "id": "99b0ce5e",
   "metadata": {
    "execution": {
     "iopub.execute_input": "2023-10-10T09:52:10.041846Z",
     "iopub.status.busy": "2023-10-10T09:52:10.041599Z",
     "iopub.status.idle": "2023-10-10T09:52:21.987480Z",
     "shell.execute_reply": "2023-10-10T09:52:21.986473Z"
    },
    "papermill": {
     "duration": 11.961866,
     "end_time": "2023-10-10T09:52:21.989272",
     "exception": false,
     "start_time": "2023-10-10T09:52:10.027406",
     "status": "completed"
    },
    "tags": []
   },
   "outputs": [],
   "source": [
    "# define the composed transformation for training\n",
    "train_transforms = transforms.Compose([transforms.RandomResizedCrop(224), transforms.RandomHorizontalFlip(p=0.5), transforms.ToTensor(),])"
   ]
  },
  {
   "cell_type": "code",
   "execution_count": 7,
   "id": "ac013340",
   "metadata": {
    "execution": {
     "iopub.execute_input": "2023-10-10T09:52:22.018335Z",
     "iopub.status.busy": "2023-10-10T09:52:22.018032Z",
     "iopub.status.idle": "2023-10-10T09:52:51.479768Z",
     "shell.execute_reply": "2023-10-10T09:52:51.478635Z"
    },
    "papermill": {
     "duration": 29.478733,
     "end_time": "2023-10-10T09:52:51.482161",
     "exception": false,
     "start_time": "2023-10-10T09:52:22.003428",
     "status": "completed"
    },
    "tags": []
   },
   "outputs": [],
   "source": [
    "## read the folders and load them in a specific class structure\n",
    "\n",
    "first = False\n",
    "first_first = True\n",
    "\n",
    "# transform the target 'words' into numerical values, this dictionary will associate these two values\n",
    "dictionary = {} \n",
    "idx = 0\n",
    "\n",
    "for dirname, _, filenames in os.walk('/Users/violeta/Desktop/gced/Q7/TAED2/project1/taed2-Food_Classification/data/processed'):\n",
    "\n",
    "    if first == True:\n",
    "        label = dirname[len('/kaggle/input/data-food/external/'):]\n",
    "        columns = ['file', 'label']\n",
    "        target = pd.DataFrame(columns=columns)\n",
    "        \n",
    "        for filename in filenames:\n",
    "            target.loc[len(target)] = [filename, idx]\n",
    "        \n",
    "        dictionary[idx] =  label\n",
    "        sub_dataset = CustomImageDataset(target, dirname, transform = train_transforms)\n",
    "        \n",
    "        if first_first == True:\n",
    "            train_data = sub_dataset\n",
    "            first_first = False\n",
    "        else:\n",
    "            train_data = ConcatDataset([train_data, sub_dataset])\n",
    "        \n",
    "        idx = idx + 1\n",
    "        \n",
    "    first = True     "
   ]
  },
  {
   "cell_type": "code",
   "execution_count": 8,
   "id": "797623ba",
   "metadata": {
    "execution": {
     "iopub.execute_input": "2023-10-10T09:52:51.514159Z",
     "iopub.status.busy": "2023-10-10T09:52:51.513837Z",
     "iopub.status.idle": "2023-10-10T09:52:51.635256Z",
     "shell.execute_reply": "2023-10-10T09:52:51.634207Z"
    },
    "papermill": {
     "duration": 0.139097,
     "end_time": "2023-10-10T09:52:51.637000",
     "exception": false,
     "start_time": "2023-10-10T09:52:51.497903",
     "status": "completed"
    },
    "tags": []
   },
   "outputs": [
    {
     "data": {
      "text/plain": [
       "(tensor([[[0.0549, 0.0510, 0.0510,  ..., 0.0118, 0.0118, 0.0118],\n",
       "          [0.0549, 0.0510, 0.0510,  ..., 0.0118, 0.0118, 0.0118],\n",
       "          [0.0549, 0.0510, 0.0510,  ..., 0.0118, 0.0118, 0.0118],\n",
       "          ...,\n",
       "          [0.1647, 0.1647, 0.1569,  ..., 0.0392, 0.0392, 0.0392],\n",
       "          [0.1686, 0.1686, 0.1608,  ..., 0.0431, 0.0431, 0.0431],\n",
       "          [0.1686, 0.1686, 0.1608,  ..., 0.0431, 0.0431, 0.0431]],\n",
       " \n",
       "         [[0.0157, 0.0118, 0.0118,  ..., 0.0118, 0.0118, 0.0118],\n",
       "          [0.0157, 0.0118, 0.0118,  ..., 0.0118, 0.0118, 0.0118],\n",
       "          [0.0196, 0.0157, 0.0157,  ..., 0.0118, 0.0118, 0.0118],\n",
       "          ...,\n",
       "          [0.0353, 0.0353, 0.0392,  ..., 0.0235, 0.0235, 0.0235],\n",
       "          [0.0392, 0.0392, 0.0431,  ..., 0.0196, 0.0196, 0.0196],\n",
       "          [0.0392, 0.0392, 0.0431,  ..., 0.0196, 0.0196, 0.0196]],\n",
       " \n",
       "         [[0.0118, 0.0078, 0.0078,  ..., 0.0039, 0.0039, 0.0039],\n",
       "          [0.0118, 0.0078, 0.0078,  ..., 0.0039, 0.0039, 0.0039],\n",
       "          [0.0118, 0.0078, 0.0078,  ..., 0.0039, 0.0039, 0.0039],\n",
       "          ...,\n",
       "          [0.0000, 0.0000, 0.0000,  ..., 0.0196, 0.0196, 0.0196],\n",
       "          [0.0039, 0.0039, 0.0039,  ..., 0.0196, 0.0196, 0.0196],\n",
       "          [0.0039, 0.0039, 0.0039,  ..., 0.0196, 0.0196, 0.0196]]]),\n",
       " 0)"
      ]
     },
     "execution_count": 8,
     "metadata": {},
     "output_type": "execute_result"
    }
   ],
   "source": [
    "# show a sample\n",
    "train_data[2]"
   ]
  },
  {
   "cell_type": "code",
   "execution_count": 9,
   "id": "748e3f7f",
   "metadata": {
    "execution": {
     "iopub.execute_input": "2023-10-10T09:52:51.667428Z",
     "iopub.status.busy": "2023-10-10T09:52:51.666763Z",
     "iopub.status.idle": "2023-10-10T09:52:51.674334Z",
     "shell.execute_reply": "2023-10-10T09:52:51.673528Z"
    },
    "papermill": {
     "duration": 0.024654,
     "end_time": "2023-10-10T09:52:51.676051",
     "exception": false,
     "start_time": "2023-10-10T09:52:51.651397",
     "status": "completed"
    },
    "tags": []
   },
   "outputs": [],
   "source": [
    "# split into training and validation set\n",
    "train_percentage = 0.7\n",
    "val_percentage = 0.3\n",
    "\n",
    "total_length = len(train_data)\n",
    "\n",
    "train_size = int(train_percentage * total_length)\n",
    "val_size = total_length - train_size\n",
    "\n",
    "train_subset, val_subset = torch.utils.data.random_split(train_data, [train_size, val_size], generator=torch.Generator().manual_seed(7767))"
   ]
  },
  {
   "cell_type": "code",
   "execution_count": 10,
   "id": "8ba5fe1d",
   "metadata": {
    "execution": {
     "iopub.execute_input": "2023-10-10T09:52:51.706804Z",
     "iopub.status.busy": "2023-10-10T09:52:51.705988Z",
     "iopub.status.idle": "2023-10-10T09:52:51.723799Z",
     "shell.execute_reply": "2023-10-10T09:52:51.722713Z"
    },
    "papermill": {
     "duration": 0.035499,
     "end_time": "2023-10-10T09:52:51.725825",
     "exception": false,
     "start_time": "2023-10-10T09:52:51.690326",
     "status": "completed"
    },
    "tags": []
   },
   "outputs": [
    {
     "data": {
      "text/plain": [
       "(tensor([[[0.4667, 0.4824, 0.4941,  ..., 0.2000, 0.2118, 0.2235],\n",
       "          [0.4706, 0.4902, 0.4863,  ..., 0.2157, 0.2275, 0.2392],\n",
       "          [0.4667, 0.4863, 0.4784,  ..., 0.2196, 0.2314, 0.2431],\n",
       "          ...,\n",
       "          [0.2510, 0.2784, 0.2980,  ..., 0.1137, 0.0941, 0.0980],\n",
       "          [0.2039, 0.2314, 0.2392,  ..., 0.1333, 0.1294, 0.1255],\n",
       "          [0.1961, 0.2196, 0.2275,  ..., 0.1059, 0.0980, 0.0863]],\n",
       " \n",
       "         [[0.2588, 0.2745, 0.2902,  ..., 0.2627, 0.2745, 0.2863],\n",
       "          [0.2549, 0.2824, 0.2824,  ..., 0.2784, 0.2902, 0.3020],\n",
       "          [0.2471, 0.2745, 0.2706,  ..., 0.2784, 0.2941, 0.3059],\n",
       "          ...,\n",
       "          [0.3176, 0.3451, 0.3608,  ..., 0.0941, 0.0745, 0.0667],\n",
       "          [0.2706, 0.2980, 0.3020,  ..., 0.1294, 0.1255, 0.1216],\n",
       "          [0.2549, 0.2784, 0.2863,  ..., 0.1098, 0.1059, 0.0941]],\n",
       " \n",
       "         [[0.1333, 0.1451, 0.1490,  ..., 0.0824, 0.0902, 0.1020],\n",
       "          [0.1373, 0.1569, 0.1529,  ..., 0.0980, 0.1059, 0.1176],\n",
       "          [0.1412, 0.1569, 0.1490,  ..., 0.1059, 0.1176, 0.1294],\n",
       "          ...,\n",
       "          [0.1843, 0.2118, 0.2431,  ..., 0.0549, 0.0314, 0.0275],\n",
       "          [0.1373, 0.1725, 0.1804,  ..., 0.1059, 0.1059, 0.1020],\n",
       "          [0.1333, 0.1569, 0.1608,  ..., 0.0980, 0.0941, 0.0824]]]),\n",
       " 24)"
      ]
     },
     "execution_count": 10,
     "metadata": {},
     "output_type": "execute_result"
    }
   ],
   "source": [
    "val_subset[14]"
   ]
  },
  {
   "cell_type": "markdown",
   "id": "be9886d7",
   "metadata": {
    "papermill": {
     "duration": 0.014805,
     "end_time": "2023-10-10T09:52:51.756258",
     "exception": false,
     "start_time": "2023-10-10T09:52:51.741453",
     "status": "completed"
    },
    "tags": []
   },
   "source": [
    "### Data Loader \n",
    "Once the data are loaded in the workspace, we can prepare the data to feed them into the model."
   ]
  },
  {
   "cell_type": "code",
   "execution_count": 11,
   "id": "485c48c3",
   "metadata": {
    "execution": {
     "iopub.execute_input": "2023-10-10T09:52:51.787830Z",
     "iopub.status.busy": "2023-10-10T09:52:51.786783Z",
     "iopub.status.idle": "2023-10-10T09:52:51.793030Z",
     "shell.execute_reply": "2023-10-10T09:52:51.792167Z"
    },
    "papermill": {
     "duration": 0.024002,
     "end_time": "2023-10-10T09:52:51.795021",
     "exception": false,
     "start_time": "2023-10-10T09:52:51.771019",
     "status": "completed"
    },
    "tags": []
   },
   "outputs": [],
   "source": [
    "from torch.utils.data import DataLoader\n",
    "\n",
    "train_loader = torch.utils.data.DataLoader(\n",
    "    train_subset, \n",
    "    batch_size=hparams[\"batch_size\"], \n",
    "    shuffle=True,\n",
    "    num_workers=1, \n",
    "    pin_memory=True,\n",
    ")\n",
    "\n",
    "val_loader = torch.utils.data.DataLoader(\n",
    "    val_subset,\n",
    "    batch_size=hparams[\"batch_size\"],\n",
    "    shuffle=False, \n",
    "    num_workers=1,\n",
    ")"
   ]
  },
  {
   "cell_type": "markdown",
   "id": "21867f90",
   "metadata": {},
   "source": [
    "## Create pandas DataFrame from Tensor"
   ]
  },
  {
   "cell_type": "code",
   "execution_count": 29,
   "id": "e1b3122c",
   "metadata": {},
   "outputs": [
    {
     "name": "stdout",
     "output_type": "stream",
     "text": [
      "   size_dim1  size_dim2  size_dim3  min_colour_range  max_colour_range  \\\n",
      "0        3.0      224.0      224.0          0.000000          0.988235   \n",
      "1        3.0      224.0      224.0          0.000000          1.000000   \n",
      "2        3.0      224.0      224.0          0.000000          0.878431   \n",
      "3        3.0      224.0      224.0          0.007843          1.000000   \n",
      "4        3.0      224.0      224.0          0.000000          1.000000   \n",
      "5        3.0      224.0      224.0          0.000000          0.960784   \n",
      "6        3.0      224.0      224.0          0.000000          0.941176   \n",
      "7        3.0      224.0      224.0          0.000000          0.886275   \n",
      "8        3.0      224.0      224.0          0.000000          1.000000   \n",
      "9        3.0      224.0      224.0          0.000000          0.913725   \n",
      "\n",
      "  type_torch.float32  \n",
      "0               True  \n",
      "1               True  \n",
      "2               True  \n",
      "3               True  \n",
      "4               True  \n",
      "5               True  \n",
      "6               True  \n",
      "7               True  \n",
      "8               True  \n",
      "9               True  \n"
     ]
    }
   ],
   "source": [
    "# Initialize an empty DataFrame.\n",
    "df = pd.DataFrame(columns=['size_dim1', 'size_dim2', 'size_dim3', 'min_colour_range', 'max_colour_range', 'type_torch.float32'])  \n",
    "\n",
    "# Iterate through all tensors (images) in train_data and add size and range to the DataFrame\n",
    "for i in tqdm(range(len(train_data)), desc=\"Processing\"): \n",
    "    size = list(map(float, train_data[i][0].size()))  # Convert size to a list of floats.\n",
    "    \n",
    "    # Dynamic range of the colours in the image.\n",
    "    min_colour_range = float(torch.min(train_data[i][0]))\n",
    "    max_colour_range = float(torch.max(train_data[i][0]))\n",
    "\n",
    "    data_type = train_data[i][0].dtype\n",
    "    \n",
    "    data_type = train_data[i][0].dtype\n",
    "    all_elements_float32 = (data_type == torch.float32)  # Check if all elements are of type torch.float32 \n",
    "\n",
    "    df = pd.concat([df, pd.DataFrame({'size_dim1': [size[0]], 'size_dim2': [size[1]], 'size_dim3': [size[2]], 'min_colour_range': [min_colour_range], 'max_colour_range': [max_colour_range], 'type_torch.float32': [all_elements_float32]})], ignore_index=True)\n",
    "\n",
    "# Display the resulting DataFrame\n",
    "print(df)"
   ]
  },
  {
   "cell_type": "code",
   "execution_count": 30,
   "id": "d6c5a68b",
   "metadata": {},
   "outputs": [
    {
     "name": "stdout",
     "output_type": "stream",
     "text": [
      "3.0    10\n",
      "Name: size_dim1, dtype: int64\n"
     ]
    }
   ],
   "source": [
    "# unique values in the 'size_dim2' column\n",
    "print(df['size_dim1'].value_counts())"
   ]
  },
  {
   "cell_type": "code",
   "execution_count": 31,
   "id": "14c6fd97",
   "metadata": {},
   "outputs": [
    {
     "name": "stdout",
     "output_type": "stream",
     "text": [
      "224.0    10\n",
      "Name: size_dim2, dtype: int64\n"
     ]
    }
   ],
   "source": [
    "print(df['size_dim2'].value_counts())"
   ]
  },
  {
   "cell_type": "code",
   "execution_count": 32,
   "id": "c5c20444",
   "metadata": {},
   "outputs": [
    {
     "name": "stdout",
     "output_type": "stream",
     "text": [
      "224.0    10\n",
      "Name: size_dim3, dtype: int64\n"
     ]
    }
   ],
   "source": [
    "print(df['size_dim3'].value_counts())"
   ]
  },
  {
   "cell_type": "code",
   "execution_count": 33,
   "id": "6278d651",
   "metadata": {},
   "outputs": [
    {
     "name": "stdout",
     "output_type": "stream",
     "text": [
      "(10, 6)\n"
     ]
    }
   ],
   "source": [
    "# size of the dataset\n",
    "print(df.shape)"
   ]
  },
  {
   "cell_type": "code",
   "execution_count": 34,
   "id": "752ae623",
   "metadata": {},
   "outputs": [
    {
     "name": "stdout",
     "output_type": "stream",
     "text": [
      "Int64Index([], dtype='int64')\n"
     ]
    }
   ],
   "source": [
    "# get the index of the rows with size_dim1 = 1\n",
    "indexNames = df[df['size_dim1'] == 1].index\n",
    "print(indexNames)\n",
    "\n",
    "# delete these row indexes from dataFrame\n",
    "df.drop(indexNames , inplace=True)"
   ]
  },
  {
   "cell_type": "code",
   "execution_count": 35,
   "id": "3b0b1f84",
   "metadata": {},
   "outputs": [
    {
     "name": "stdout",
     "output_type": "stream",
     "text": [
      "(10, 6)\n"
     ]
    }
   ],
   "source": [
    "# size of the dataset\n",
    "print(df.shape)"
   ]
  },
  {
   "cell_type": "code",
   "execution_count": 36,
   "id": "84269fe4",
   "metadata": {},
   "outputs": [],
   "source": [
    "df.to_csv('/Users/violeta/Desktop/gced/Q7/TAED2/project1/taed2-Food_Classification/data/processed/x_data_information.csv', index=False)"
   ]
  },
  {
   "cell_type": "code",
   "execution_count": 24,
   "id": "8ec3209c",
   "metadata": {},
   "outputs": [
    {
     "name": "stdout",
     "output_type": "stream",
     "text": [
      "  label_id\n",
      "0        0\n",
      "1        0\n",
      "2        0\n",
      "3        0\n",
      "4        0\n",
      "5        0\n",
      "6        0\n",
      "7        0\n",
      "8        0\n",
      "9        0\n"
     ]
    }
   ],
   "source": [
    "# Initialize an empty DataFrame.\n",
    "y_df = pd.DataFrame(columns=['label_id'])  \n",
    "\n",
    "# Iterate through all tensors (images) in train_data and add size and range to the DataFrame\n",
    "for i in tqdm(range(len(train_data)), desc=\"Processing\"): \n",
    "    label_id = train_data[i][1]\n",
    "\n",
    "    y_df = pd.concat([y_df, pd.DataFrame({'label_id': [label_id]})], ignore_index=True)\n",
    "\n",
    "# Display the resulting DataFrame\n",
    "print(y_df)"
   ]
  },
  {
   "cell_type": "code",
   "execution_count": 25,
   "id": "19bdc6c8",
   "metadata": {},
   "outputs": [],
   "source": [
    "# delete these row indexes from dataFrame\n",
    "y_df.drop(indexNames , inplace=True)"
   ]
  },
  {
   "cell_type": "code",
   "execution_count": 27,
   "id": "f831d50b",
   "metadata": {},
   "outputs": [],
   "source": [
    "y_df.to_csv('/Users/violeta/Desktop/gced/Q7/TAED2/project1/taed2-Food_Classification/data/processed/y_data_information.csv', index=False)"
   ]
  },
  {
   "cell_type": "code",
   "execution_count": null,
   "id": "b9655d76",
   "metadata": {},
   "outputs": [],
   "source": []
  }
 ],
 "metadata": {
  "kernelspec": {
   "display_name": "Python 3",
   "language": "python",
   "name": "python3"
  },
  "language_info": {
   "codemirror_mode": {
    "name": "ipython",
    "version": 3
   },
   "file_extension": ".py",
   "mimetype": "text/x-python",
   "name": "python",
   "nbconvert_exporter": "python",
   "pygments_lexer": "ipython3",
   "version": "3.9.5"
  },
  "papermill": {
   "default_parameters": {},
   "duration": 9986.444912,
   "end_time": "2023-10-10T12:37:40.026545",
   "environment_variables": {},
   "exception": true,
   "input_path": "__notebook__.ipynb",
   "output_path": "__notebook__.ipynb",
   "parameters": {},
   "start_time": "2023-10-10T09:51:13.581633",
   "version": "2.4.0"
  },
  "widgets": {
   "application/vnd.jupyter.widget-state+json": {
    "state": {
     "1bb2f4baf0c74d9e8fb9c4a46222d0fc": {
      "model_module": "@jupyter-widgets/base",
      "model_module_version": "1.2.0",
      "model_name": "LayoutModel",
      "state": {
       "_model_module": "@jupyter-widgets/base",
       "_model_module_version": "1.2.0",
       "_model_name": "LayoutModel",
       "_view_count": null,
       "_view_module": "@jupyter-widgets/base",
       "_view_module_version": "1.2.0",
       "_view_name": "LayoutView",
       "align_content": null,
       "align_items": null,
       "align_self": null,
       "border": null,
       "bottom": null,
       "display": null,
       "flex": null,
       "flex_flow": null,
       "grid_area": null,
       "grid_auto_columns": null,
       "grid_auto_flow": null,
       "grid_auto_rows": null,
       "grid_column": null,
       "grid_gap": null,
       "grid_row": null,
       "grid_template_areas": null,
       "grid_template_columns": null,
       "grid_template_rows": null,
       "height": null,
       "justify_content": null,
       "justify_items": null,
       "left": null,
       "margin": null,
       "max_height": null,
       "max_width": null,
       "min_height": null,
       "min_width": null,
       "object_fit": null,
       "object_position": null,
       "order": null,
       "overflow": null,
       "overflow_x": null,
       "overflow_y": null,
       "padding": null,
       "right": null,
       "top": null,
       "visibility": null,
       "width": null
      }
     },
     "f2a9c08a2d5f4613b566c610b62873be": {
      "model_module": "@jupyter-widgets/output",
      "model_module_version": "1.0.0",
      "model_name": "OutputModel",
      "state": {
       "_dom_classes": [],
       "_model_module": "@jupyter-widgets/output",
       "_model_module_version": "1.0.0",
       "_model_name": "OutputModel",
       "_view_count": null,
       "_view_module": "@jupyter-widgets/output",
       "_view_module_version": "1.0.0",
       "_view_name": "OutputView",
       "layout": "IPY_MODEL_1bb2f4baf0c74d9e8fb9c4a46222d0fc",
       "msg_id": "",
       "outputs": [
        {
         "data": {
          "text/html": "<pre style=\"white-space:pre;overflow-x:auto;line-height:normal;font-family:Menlo,'DejaVu Sans Mono',consolas,'Courier New',monospace\"><span style=\"color: #008000; text-decoration-color: #008000\">⠼</span> Waiting for authorization\n</pre>\n",
          "text/plain": "\u001b[32m⠼\u001b[0m Waiting for authorization\n"
         },
         "metadata": {},
         "output_type": "display_data"
        }
       ]
      }
     }
    },
    "version_major": 2,
    "version_minor": 0
   }
  }
 },
 "nbformat": 4,
 "nbformat_minor": 5
}
