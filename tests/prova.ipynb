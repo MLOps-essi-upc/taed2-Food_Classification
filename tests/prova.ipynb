{
 "cells": [
  {
   "cell_type": "code",
   "execution_count": 1,
   "metadata": {},
   "outputs": [],
   "source": [
    "import torch\n",
    "from typing import Tuple, List\n",
    "import torchvision.transforms as transforms\n",
    "from torchvision.transforms.functional import to_pil_image\n",
    "\n",
    "def predict_image(\n",
    "        image: torch.tensor, \n",
    "        model: torch.nn.Module, \n",
    "        topk: int = 1,\n",
    "        ) -> List[Tuple[str, float]]:\n",
    "    \n",
    "    # x = torch_image.to(device) # move image to GPU\n",
    "    preprocess = transforms.Compose([transforms.ToTensor()])\n",
    "    torch_image = preprocess(image)\n",
    "\n",
    "    x = torch_image\n",
    "    x = x.unsqueeze(0) # add batch dimension\n",
    "    \n",
    "    # TODO: predict raw outputs\n",
    "    output = model(x)\n",
    "\n",
    "    output = torch.softmax(output, dim=1)  #Compute the softmax to get probabilities\n",
    "    probs, idxs = output.topk(topk)  # Get the top k predicitons\n",
    "    #return [(labels[i.item()], p.item()*100) for p, i in zip(probs[0], idxs[0])]\n",
    "    return probs[0], idxs[0]"
   ]
  },
  {
   "cell_type": "code",
   "execution_count": 2,
   "metadata": {},
   "outputs": [],
   "source": [
    "from PIL import Image\n",
    "\n",
    "image = Image.open('test_images\\IMG_1.jpg')"
   ]
  },
  {
   "cell_type": "code",
   "execution_count": 3,
   "metadata": {},
   "outputs": [
    {
     "ename": "TypeError",
     "evalue": "predict_image() missing 2 required positional arguments: 'image' and 'model'",
     "output_type": "error",
     "traceback": [
      "\u001b[1;31m---------------------------------------------------------------------------\u001b[0m",
      "\u001b[1;31mTypeError\u001b[0m                                 Traceback (most recent call last)",
      "\u001b[1;32mc:\\Users\\wenli\\OneDrive\\Escritorio\\taed2-Food_Classification\\tests\\prova.ipynb Cell 3\u001b[0m line \u001b[0;36m1\n\u001b[1;32m----> <a href='vscode-notebook-cell:/c%3A/Users/wenli/OneDrive/Escritorio/taed2-Food_Classification/tests/prova.ipynb#W5sZmlsZQ%3D%3D?line=0'>1</a>\u001b[0m predict_image()\n",
      "\u001b[1;31mTypeError\u001b[0m: predict_image() missing 2 required positional arguments: 'image' and 'model'"
     ]
    }
   ],
   "source": [
    "predict_image(image)"
   ]
  },
  {
   "cell_type": "code",
   "execution_count": 17,
   "metadata": {},
   "outputs": [
    {
     "ename": "RuntimeError",
     "evalue": "You should enable GPU runtime!!",
     "output_type": "error",
     "traceback": [
      "\u001b[1;31m---------------------------------------------------------------------------\u001b[0m",
      "\u001b[1;31mRuntimeError\u001b[0m                              Traceback (most recent call last)",
      "\u001b[1;32mc:\\Users\\wenli\\OneDrive\\Escritorio\\taed2-Food_Classification\\tests\\prova.ipynb Cell 4\u001b[0m line \u001b[0;36m2\n\u001b[0;32m      <a href='vscode-notebook-cell:/c%3A/Users/wenli/OneDrive/Escritorio/taed2-Food_Classification/tests/prova.ipynb#X11sZmlsZQ%3D%3D?line=0'>1</a>\u001b[0m \u001b[39mif\u001b[39;00m \u001b[39mnot\u001b[39;00m torch\u001b[39m.\u001b[39mcuda\u001b[39m.\u001b[39mis_available():\n\u001b[1;32m----> <a href='vscode-notebook-cell:/c%3A/Users/wenli/OneDrive/Escritorio/taed2-Food_Classification/tests/prova.ipynb#X11sZmlsZQ%3D%3D?line=1'>2</a>\u001b[0m        \u001b[39mraise\u001b[39;00m \u001b[39mRuntimeError\u001b[39;00m(\u001b[39m\"\u001b[39m\u001b[39mYou should enable GPU runtime!!\u001b[39m\u001b[39m\"\u001b[39m)\n\u001b[0;32m      <a href='vscode-notebook-cell:/c%3A/Users/wenli/OneDrive/Escritorio/taed2-Food_Classification/tests/prova.ipynb#X11sZmlsZQ%3D%3D?line=2'>3</a>\u001b[0m device \u001b[39m=\u001b[39m torch\u001b[39m.\u001b[39mdevice(\u001b[39m\"\u001b[39m\u001b[39mcuda\u001b[39m\u001b[39m\"\u001b[39m)\n",
      "\u001b[1;31mRuntimeError\u001b[0m: You should enable GPU runtime!!"
     ]
    }
   ],
   "source": [
    "if not torch.cuda.is_available():\n",
    "       raise RuntimeError(\"You should enable GPU runtime!!\")\n",
    "device = torch.device(\"cuda\")"
   ]
  },
  {
   "cell_type": "code",
   "execution_count": 19,
   "metadata": {},
   "outputs": [
    {
     "data": {
      "text/plain": [
       "<All keys matched successfully>"
      ]
     },
     "execution_count": 19,
     "metadata": {},
     "output_type": "execute_result"
    }
   ],
   "source": [
    "import torchvision.models as models\n",
    "model = models.resnet34()\n",
    "\n",
    "model.load_state_dict(torch.load(\"RESNET50\", map_location=torch.device('cpu')))"
   ]
  },
  {
   "cell_type": "code",
   "execution_count": null,
   "metadata": {},
   "outputs": [],
   "source": []
  }
 ],
 "metadata": {
  "kernelspec": {
   "display_name": "Python 3",
   "language": "python",
   "name": "python3"
  },
  "language_info": {
   "codemirror_mode": {
    "name": "ipython",
    "version": 3
   },
   "file_extension": ".py",
   "mimetype": "text/x-python",
   "name": "python",
   "nbconvert_exporter": "python",
   "pygments_lexer": "ipython3",
   "version": "3.8.5"
  }
 },
 "nbformat": 4,
 "nbformat_minor": 2
}
